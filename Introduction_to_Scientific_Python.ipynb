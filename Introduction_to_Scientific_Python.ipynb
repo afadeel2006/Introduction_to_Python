{
 "cells": [
  {
   "cell_type": "markdown",
   "metadata": {},
   "source": [
    "# A Quick Introduction to Scientific Python\n",
    "[Joseph C. Slater](joseph.slater@wright.edu)"
   ]
  },
  {
   "cell_type": "markdown",
   "metadata": {},
   "source": [
    "1. An overview of the paradigm of Python and how to use help tools\n",
    "2. Overview of editors and integrated developer environments\n",
    "3. Basic math usage\n",
    "4. Matrix computations\n",
    "5. File i/o\n",
    "6. Graphs and plots\n",
    "7. Numerical methods\n",
    "8. Optimization "
   ]
  },
  {
   "cell_type": "markdown",
   "metadata": {},
   "source": [
    "## Overview\n",
    "1. Python programs can be be written as object oriented or imperative. \n",
    "2. Python uses *duck typing* for variables. If it looks like a duck, and it acts like a duck, then it is a duck. A float is a float and string is a string without the variable having to be predefined. One *can* specify if appropriate and necessary. \n",
    "3. It is a more formal language than Matlab. For instance: `f(2)`, is that the second element of a vector `f` or are you sending 2 to a function named `f`?\n",
    "4. Codes can be, and for some are commonly, executed from a terminal, natively: In Unix/Linux/MacOS, starting a python code file with `#! /usr/bin/env python` or the appropriate path and changing the permissions allows the code to be executed as a terminal command itself. \n",
    "5. No end statements. This is weird to new users. Formatting, specifically indenting, defines the level within loops and conditional statements. This is frustrating if you are sloppy in formating but results in much more readable code. \n",
    "6. 0-indexing. We start counting at zero, just like for time, unlike matrices. This is common to the vast majority of modern computer languages- specifically not Matlab and not Fortran. "
   ]
  },
  {
   "cell_type": "markdown",
   "metadata": {},
   "source": [
    "### The Zen of Python PEP 20\n",
    "* Beautiful is better than ugly.\n",
    "* Explicit is better than implicit.\n",
    "* Simple is better than complex.\n",
    "* Complex is better than complicated.\n",
    "* Flat is better than nested.\n",
    "* Sparse is better than dense.\n",
    "* Readability counts.\n",
    "* Special cases aren't special enough to break the rules.\n",
    "* Although practicality beats purity.\n",
    "* Errors should never pass silently.\n",
    "* Unless explicitly silenced.\n",
    "* In the face of ambiguity, refuse the temptation to guess.\n",
    "* There should be one– and preferably only one –obvious way to do it. (often not true)\n",
    "* Although that way may not be obvious at first unless you're Dutch.\n",
    "* Now is better than never.\n",
    "* Although never is often better than *right* now.\n",
    "* If the implementation is hard to explain, it's a bad idea.\n",
    "* If the implementation is easy to explain, it may be a good idea.\n",
    "* Namespaces are one honking great idea – let's do more of those!"
   ]
  },
  {
   "cell_type": "markdown",
   "metadata": {},
   "source": [
    "## Python Editors and Integrated Development Environments\n",
    "\n",
    "Python has a substantial number of standards for how to write and document code.\n",
    "\n",
    "These seem very restrictive, but most are not enforced. They are recommendations (requirements for submitting to the code-base, though). \n",
    "\n",
    "These standards result in beautiful and readable code and actually make documenting your code fun. \n",
    "\n",
    "A good editor helps:\n",
    "1. Spyder: A Matlab-style IDE best for scientific usage of Python writing longer codes. \n",
    "2. Jupyter: A Mathamatica-like notebook better for using, or dabbling in Python, or for making usable notes and reports demonstrating usage. \n",
    "3. PyCharm: An IDE that is likely the best for non-scientific usage of Python. Certainly worth using to clean up errors/formatting of code. Better editor than Spyder. \n",
    "4. Atom: GitHub's editor. With add-ins it is a powerful IDE itself. I tend to use it simultaneously with Jupyter when developing code (Atom is multi-language. I like having a single editor I'm good with).\n",
    "5. Emacs: Very powerful editor. Love it or hate it. I don't use it as much as I once did, but may try it again. \n",
    "6. VI/VIM: Very powerful editor. Love it or hate it. I hate it. Some very smart people love it. The problem is with me and not the editor. "
   ]
  },
  {
   "cell_type": "markdown",
   "metadata": {},
   "source": [
    "## Basic math and arrays"
   ]
  },
  {
   "cell_type": "markdown",
   "metadata": {},
   "source": [
    "First we need to import a few libraries that we will need. \n",
    "\n",
    "The first line is specific to using Python in the Jupyter environment. It defines how and where to put plots. \n",
    "\n",
    "The second two lines load the packages we will wish to use. They are comparable to Matlab toolboxes. In computational usage of Python, you almost **always** use these two, perhaps additional libraries as well. "
   ]
  },
  {
   "cell_type": "code",
   "execution_count": 1,
   "metadata": {},
   "outputs": [],
   "source": [
    "# This is a comment unlike Matlab where a % is a comment. \n",
    "# Special to Jupyter are `magics` which start with a %. More later. \n",
    "# %matplotlib inline- but this isn't necessary anymore. \n",
    "\"\"\"Comment the previous line and uncomment the following one to \n",
    "have a GUI for your plot. Note that you will restart the kernel \n",
    "for this to work.\"\"\" \n",
    "# %matplotlib notebook # new feature I haven't worked with yet. \n",
    "%matplotlib inline\n",
    "import matplotlib.pyplot as plt\n",
    "import numpy as np"
   ]
  },
  {
   "cell_type": "markdown",
   "metadata": {},
   "source": [
    "We could have used `from numpy import *`, but this dumps every function within Numpy into our namespace. If we want to use that name elsewhere, we no longer can. By importing like this we are managing the namespace so that all functions in Numpy can be accessed with `np.function_name`. `np` is a convention short hand that is commonly used, but we could have used `import numpy` (functions are called with `numpy.function_name`) or `import numpy as pickles` (functions in Numpy are access with `pickles.function_name`. "
   ]
  },
  {
   "cell_type": "markdown",
   "metadata": {},
   "source": [
    "Let's get a list of functions that Numpy provides by using the `dir` command. "
   ]
  },
  {
   "cell_type": "code",
   "execution_count": 2,
   "metadata": {
    "scrolled": true
   },
   "outputs": [
    {
     "data": {
      "text/plain": [
       "['ALLOW_THREADS',\n",
       " 'AxisError',\n",
       " 'BUFSIZE',\n",
       " 'CLIP',\n",
       " 'ComplexWarning',\n",
       " 'DataSource',\n",
       " 'ERR_CALL',\n",
       " 'ERR_DEFAULT',\n",
       " 'ERR_IGNORE',\n",
       " 'ERR_LOG',\n",
       " 'ERR_PRINT',\n",
       " 'ERR_RAISE',\n",
       " 'ERR_WARN',\n",
       " 'FLOATING_POINT_SUPPORT',\n",
       " 'FPE_DIVIDEBYZERO',\n",
       " 'FPE_INVALID',\n",
       " 'FPE_OVERFLOW',\n",
       " 'FPE_UNDERFLOW',\n",
       " 'False_',\n",
       " 'Inf',\n",
       " 'Infinity',\n",
       " 'MAXDIMS',\n",
       " 'MAY_SHARE_BOUNDS',\n",
       " 'MAY_SHARE_EXACT',\n",
       " 'MachAr',\n",
       " 'ModuleDeprecationWarning',\n",
       " 'NAN',\n",
       " 'NINF',\n",
       " 'NZERO',\n",
       " 'NaN',\n",
       " 'PINF',\n",
       " 'PZERO',\n",
       " 'PackageLoader',\n",
       " 'RAISE',\n",
       " 'RankWarning',\n",
       " 'SHIFT_DIVIDEBYZERO',\n",
       " 'SHIFT_INVALID',\n",
       " 'SHIFT_OVERFLOW',\n",
       " 'SHIFT_UNDERFLOW',\n",
       " 'ScalarType',\n",
       " 'Tester',\n",
       " 'TooHardError',\n",
       " 'True_',\n",
       " 'UFUNC_BUFSIZE_DEFAULT',\n",
       " 'UFUNC_PYVALS_NAME',\n",
       " 'VisibleDeprecationWarning',\n",
       " 'WRAP',\n",
       " '_NoValue',\n",
       " '__NUMPY_SETUP__',\n",
       " '__all__',\n",
       " '__builtins__',\n",
       " '__cached__',\n",
       " '__config__',\n",
       " '__doc__',\n",
       " '__file__',\n",
       " '__git_revision__',\n",
       " '__loader__',\n",
       " '__mkl_version__',\n",
       " '__name__',\n",
       " '__package__',\n",
       " '__path__',\n",
       " '__spec__',\n",
       " '__version__',\n",
       " '_distributor_init',\n",
       " '_globals',\n",
       " '_import_tools',\n",
       " '_mat',\n",
       " '_mklinit',\n",
       " 'abs',\n",
       " 'absolute',\n",
       " 'absolute_import',\n",
       " 'add',\n",
       " 'add_docstring',\n",
       " 'add_newdoc',\n",
       " 'add_newdoc_ufunc',\n",
       " 'add_newdocs',\n",
       " 'alen',\n",
       " 'all',\n",
       " 'allclose',\n",
       " 'alltrue',\n",
       " 'amax',\n",
       " 'amin',\n",
       " 'angle',\n",
       " 'any',\n",
       " 'append',\n",
       " 'apply_along_axis',\n",
       " 'apply_over_axes',\n",
       " 'arange',\n",
       " 'arccos',\n",
       " 'arccosh',\n",
       " 'arcsin',\n",
       " 'arcsinh',\n",
       " 'arctan',\n",
       " 'arctan2',\n",
       " 'arctanh',\n",
       " 'argmax',\n",
       " 'argmin',\n",
       " 'argpartition',\n",
       " 'argsort',\n",
       " 'argwhere',\n",
       " 'around',\n",
       " 'array',\n",
       " 'array2string',\n",
       " 'array_equal',\n",
       " 'array_equiv',\n",
       " 'array_repr',\n",
       " 'array_split',\n",
       " 'array_str',\n",
       " 'asanyarray',\n",
       " 'asarray',\n",
       " 'asarray_chkfinite',\n",
       " 'ascontiguousarray',\n",
       " 'asfarray',\n",
       " 'asfortranarray',\n",
       " 'asmatrix',\n",
       " 'asscalar',\n",
       " 'atleast_1d',\n",
       " 'atleast_2d',\n",
       " 'atleast_3d',\n",
       " 'average',\n",
       " 'bartlett',\n",
       " 'base_repr',\n",
       " 'binary_repr',\n",
       " 'bincount',\n",
       " 'bitwise_and',\n",
       " 'bitwise_not',\n",
       " 'bitwise_or',\n",
       " 'bitwise_xor',\n",
       " 'blackman',\n",
       " 'block',\n",
       " 'bmat',\n",
       " 'bool',\n",
       " 'bool8',\n",
       " 'bool_',\n",
       " 'broadcast',\n",
       " 'broadcast_arrays',\n",
       " 'broadcast_to',\n",
       " 'busday_count',\n",
       " 'busday_offset',\n",
       " 'busdaycalendar',\n",
       " 'byte',\n",
       " 'byte_bounds',\n",
       " 'bytes0',\n",
       " 'bytes_',\n",
       " 'c_',\n",
       " 'can_cast',\n",
       " 'cast',\n",
       " 'cbrt',\n",
       " 'cdouble',\n",
       " 'ceil',\n",
       " 'cfloat',\n",
       " 'char',\n",
       " 'character',\n",
       " 'chararray',\n",
       " 'choose',\n",
       " 'clip',\n",
       " 'clongdouble',\n",
       " 'clongfloat',\n",
       " 'column_stack',\n",
       " 'common_type',\n",
       " 'compare_chararrays',\n",
       " 'compat',\n",
       " 'complex',\n",
       " 'complex128',\n",
       " 'complex256',\n",
       " 'complex64',\n",
       " 'complex_',\n",
       " 'complexfloating',\n",
       " 'compress',\n",
       " 'concatenate',\n",
       " 'conj',\n",
       " 'conjugate',\n",
       " 'convolve',\n",
       " 'copy',\n",
       " 'copysign',\n",
       " 'copyto',\n",
       " 'core',\n",
       " 'corrcoef',\n",
       " 'correlate',\n",
       " 'cos',\n",
       " 'cosh',\n",
       " 'count_nonzero',\n",
       " 'cov',\n",
       " 'cross',\n",
       " 'csingle',\n",
       " 'ctypeslib',\n",
       " 'cumprod',\n",
       " 'cumproduct',\n",
       " 'cumsum',\n",
       " 'datetime64',\n",
       " 'datetime_as_string',\n",
       " 'datetime_data',\n",
       " 'deg2rad',\n",
       " 'degrees',\n",
       " 'delete',\n",
       " 'deprecate',\n",
       " 'deprecate_with_doc',\n",
       " 'diag',\n",
       " 'diag_indices',\n",
       " 'diag_indices_from',\n",
       " 'diagflat',\n",
       " 'diagonal',\n",
       " 'diff',\n",
       " 'digitize',\n",
       " 'disp',\n",
       " 'divide',\n",
       " 'division',\n",
       " 'divmod',\n",
       " 'dot',\n",
       " 'double',\n",
       " 'dsplit',\n",
       " 'dstack',\n",
       " 'dtype',\n",
       " 'e',\n",
       " 'ediff1d',\n",
       " 'einsum',\n",
       " 'einsum_path',\n",
       " 'emath',\n",
       " 'empty',\n",
       " 'empty_like',\n",
       " 'equal',\n",
       " 'erf',\n",
       " 'errstate',\n",
       " 'euler_gamma',\n",
       " 'exp',\n",
       " 'exp2',\n",
       " 'expand_dims',\n",
       " 'expm1',\n",
       " 'extract',\n",
       " 'eye',\n",
       " 'fabs',\n",
       " 'fastCopyAndTranspose',\n",
       " 'fft',\n",
       " 'fill_diagonal',\n",
       " 'find_common_type',\n",
       " 'finfo',\n",
       " 'fix',\n",
       " 'flatiter',\n",
       " 'flatnonzero',\n",
       " 'flexible',\n",
       " 'flip',\n",
       " 'fliplr',\n",
       " 'flipud',\n",
       " 'float',\n",
       " 'float128',\n",
       " 'float16',\n",
       " 'float32',\n",
       " 'float64',\n",
       " 'float_',\n",
       " 'float_power',\n",
       " 'floating',\n",
       " 'floor',\n",
       " 'floor_divide',\n",
       " 'fmax',\n",
       " 'fmin',\n",
       " 'fmod',\n",
       " 'format_float_positional',\n",
       " 'format_float_scientific',\n",
       " 'format_parser',\n",
       " 'frexp',\n",
       " 'frombuffer',\n",
       " 'fromfile',\n",
       " 'fromfunction',\n",
       " 'fromiter',\n",
       " 'frompyfunc',\n",
       " 'fromregex',\n",
       " 'fromstring',\n",
       " 'full',\n",
       " 'full_like',\n",
       " 'fv',\n",
       " 'gcd',\n",
       " 'generic',\n",
       " 'genfromtxt',\n",
       " 'geomspace',\n",
       " 'get_array_wrap',\n",
       " 'get_include',\n",
       " 'get_printoptions',\n",
       " 'getbufsize',\n",
       " 'geterr',\n",
       " 'geterrcall',\n",
       " 'geterrobj',\n",
       " 'gradient',\n",
       " 'greater',\n",
       " 'greater_equal',\n",
       " 'half',\n",
       " 'hamming',\n",
       " 'hanning',\n",
       " 'heaviside',\n",
       " 'histogram',\n",
       " 'histogram2d',\n",
       " 'histogram_bin_edges',\n",
       " 'histogramdd',\n",
       " 'hsplit',\n",
       " 'hstack',\n",
       " 'hypot',\n",
       " 'i0',\n",
       " 'identity',\n",
       " 'iinfo',\n",
       " 'imag',\n",
       " 'in1d',\n",
       " 'index_exp',\n",
       " 'indices',\n",
       " 'inexact',\n",
       " 'inf',\n",
       " 'info',\n",
       " 'infty',\n",
       " 'inner',\n",
       " 'insert',\n",
       " 'int',\n",
       " 'int0',\n",
       " 'int16',\n",
       " 'int32',\n",
       " 'int64',\n",
       " 'int8',\n",
       " 'int_',\n",
       " 'int_asbuffer',\n",
       " 'intc',\n",
       " 'integer',\n",
       " 'interp',\n",
       " 'intersect1d',\n",
       " 'intp',\n",
       " 'invert',\n",
       " 'ipmt',\n",
       " 'irr',\n",
       " 'is_busday',\n",
       " 'isclose',\n",
       " 'iscomplex',\n",
       " 'iscomplexobj',\n",
       " 'isfinite',\n",
       " 'isfortran',\n",
       " 'isin',\n",
       " 'isinf',\n",
       " 'isnan',\n",
       " 'isnat',\n",
       " 'isneginf',\n",
       " 'isposinf',\n",
       " 'isreal',\n",
       " 'isrealobj',\n",
       " 'isscalar',\n",
       " 'issctype',\n",
       " 'issubclass_',\n",
       " 'issubdtype',\n",
       " 'issubsctype',\n",
       " 'iterable',\n",
       " 'ix_',\n",
       " 'kaiser',\n",
       " 'kron',\n",
       " 'lcm',\n",
       " 'ldexp',\n",
       " 'left_shift',\n",
       " 'less',\n",
       " 'less_equal',\n",
       " 'lexsort',\n",
       " 'lib',\n",
       " 'linalg',\n",
       " 'linspace',\n",
       " 'little_endian',\n",
       " 'load',\n",
       " 'loads',\n",
       " 'loadtxt',\n",
       " 'log',\n",
       " 'log10',\n",
       " 'log1p',\n",
       " 'log2',\n",
       " 'logaddexp',\n",
       " 'logaddexp2',\n",
       " 'logical_and',\n",
       " 'logical_not',\n",
       " 'logical_or',\n",
       " 'logical_xor',\n",
       " 'logspace',\n",
       " 'long',\n",
       " 'longcomplex',\n",
       " 'longdouble',\n",
       " 'longfloat',\n",
       " 'longlong',\n",
       " 'lookfor',\n",
       " 'ma',\n",
       " 'mafromtxt',\n",
       " 'mask_indices',\n",
       " 'mat',\n",
       " 'math',\n",
       " 'matmul',\n",
       " 'matrix',\n",
       " 'matrixlib',\n",
       " 'max',\n",
       " 'maximum',\n",
       " 'maximum_sctype',\n",
       " 'may_share_memory',\n",
       " 'mean',\n",
       " 'median',\n",
       " 'memmap',\n",
       " 'meshgrid',\n",
       " 'mgrid',\n",
       " 'min',\n",
       " 'min_scalar_type',\n",
       " 'minimum',\n",
       " 'mintypecode',\n",
       " 'mirr',\n",
       " 'mod',\n",
       " 'modf',\n",
       " 'moveaxis',\n",
       " 'msort',\n",
       " 'multiply',\n",
       " 'nan',\n",
       " 'nan_to_num',\n",
       " 'nanargmax',\n",
       " 'nanargmin',\n",
       " 'nancumprod',\n",
       " 'nancumsum',\n",
       " 'nanmax',\n",
       " 'nanmean',\n",
       " 'nanmedian',\n",
       " 'nanmin',\n",
       " 'nanpercentile',\n",
       " 'nanprod',\n",
       " 'nanquantile',\n",
       " 'nanstd',\n",
       " 'nansum',\n",
       " 'nanvar',\n",
       " 'nbytes',\n",
       " 'ndarray',\n",
       " 'ndenumerate',\n",
       " 'ndfromtxt',\n",
       " 'ndim',\n",
       " 'ndindex',\n",
       " 'nditer',\n",
       " 'negative',\n",
       " 'nested_iters',\n",
       " 'newaxis',\n",
       " 'nextafter',\n",
       " 'nonzero',\n",
       " 'not_equal',\n",
       " 'nper',\n",
       " 'npv',\n",
       " 'numarray',\n",
       " 'number',\n",
       " 'obj2sctype',\n",
       " 'object',\n",
       " 'object0',\n",
       " 'object_',\n",
       " 'ogrid',\n",
       " 'oldnumeric',\n",
       " 'ones',\n",
       " 'ones_like',\n",
       " 'outer',\n",
       " 'packbits',\n",
       " 'pad',\n",
       " 'partition',\n",
       " 'percentile',\n",
       " 'pi',\n",
       " 'piecewise',\n",
       " 'pkgload',\n",
       " 'place',\n",
       " 'pmt',\n",
       " 'poly',\n",
       " 'poly1d',\n",
       " 'polyadd',\n",
       " 'polyder',\n",
       " 'polydiv',\n",
       " 'polyfit',\n",
       " 'polyint',\n",
       " 'polymul',\n",
       " 'polynomial',\n",
       " 'polysub',\n",
       " 'polyval',\n",
       " 'positive',\n",
       " 'power',\n",
       " 'ppmt',\n",
       " 'print_function',\n",
       " 'printoptions',\n",
       " 'prod',\n",
       " 'product',\n",
       " 'promote_types',\n",
       " 'ptp',\n",
       " 'put',\n",
       " 'put_along_axis',\n",
       " 'putmask',\n",
       " 'pv',\n",
       " 'quantile',\n",
       " 'r_',\n",
       " 'rad2deg',\n",
       " 'radians',\n",
       " 'random',\n",
       " 'rank',\n",
       " 'rate',\n",
       " 'ravel',\n",
       " 'ravel_multi_index',\n",
       " 'real',\n",
       " 'real_if_close',\n",
       " 'rec',\n",
       " 'recarray',\n",
       " 'recfromcsv',\n",
       " 'recfromtxt',\n",
       " 'reciprocal',\n",
       " 'record',\n",
       " 'remainder',\n",
       " 'repeat',\n",
       " 'require',\n",
       " 'reshape',\n",
       " 'resize',\n",
       " 'result_type',\n",
       " 'right_shift',\n",
       " 'rint',\n",
       " 'roll',\n",
       " 'rollaxis',\n",
       " 'roots',\n",
       " 'rot90',\n",
       " 'round',\n",
       " 'round_',\n",
       " 'row_stack',\n",
       " 's_',\n",
       " 'safe_eval',\n",
       " 'save',\n",
       " 'savetxt',\n",
       " 'savez',\n",
       " 'savez_compressed',\n",
       " 'sctype2char',\n",
       " 'sctypeDict',\n",
       " 'sctypeNA',\n",
       " 'sctypes',\n",
       " 'searchsorted',\n",
       " 'select',\n",
       " 'set_numeric_ops',\n",
       " 'set_printoptions',\n",
       " 'set_string_function',\n",
       " 'setbufsize',\n",
       " 'setdiff1d',\n",
       " 'seterr',\n",
       " 'seterrcall',\n",
       " 'seterrobj',\n",
       " 'setxor1d',\n",
       " 'shape',\n",
       " 'shares_memory',\n",
       " 'short',\n",
       " 'show_config',\n",
       " 'sign',\n",
       " 'signbit',\n",
       " 'signedinteger',\n",
       " 'sin',\n",
       " 'sinc',\n",
       " 'single',\n",
       " 'singlecomplex',\n",
       " 'sinh',\n",
       " 'size',\n",
       " 'sometrue',\n",
       " 'sort',\n",
       " 'sort_complex',\n",
       " 'source',\n",
       " 'spacing',\n",
       " 'split',\n",
       " 'sqrt',\n",
       " 'square',\n",
       " 'squeeze',\n",
       " 'stack',\n",
       " 'std',\n",
       " 'str',\n",
       " 'str0',\n",
       " 'str_',\n",
       " 'string_',\n",
       " 'subtract',\n",
       " 'sum',\n",
       " 'swapaxes',\n",
       " 'sys',\n",
       " 'take',\n",
       " 'take_along_axis',\n",
       " 'tan',\n",
       " 'tanh',\n",
       " 'tensordot',\n",
       " 'test',\n",
       " 'testing',\n",
       " 'tile',\n",
       " 'timedelta64',\n",
       " 'trace',\n",
       " 'tracemalloc_domain',\n",
       " 'transpose',\n",
       " 'trapz',\n",
       " 'tri',\n",
       " 'tril',\n",
       " 'tril_indices',\n",
       " 'tril_indices_from',\n",
       " 'trim_zeros',\n",
       " 'triu',\n",
       " 'triu_indices',\n",
       " 'triu_indices_from',\n",
       " 'true_divide',\n",
       " 'trunc',\n",
       " 'typeDict',\n",
       " 'typeNA',\n",
       " 'typecodes',\n",
       " 'typename',\n",
       " 'ubyte',\n",
       " 'ufunc',\n",
       " 'uint',\n",
       " 'uint0',\n",
       " 'uint16',\n",
       " 'uint32',\n",
       " 'uint64',\n",
       " 'uint8',\n",
       " 'uintc',\n",
       " 'uintp',\n",
       " 'ulonglong',\n",
       " 'unicode',\n",
       " 'unicode_',\n",
       " 'union1d',\n",
       " 'unique',\n",
       " 'unpackbits',\n",
       " 'unravel_index',\n",
       " 'unsignedinteger',\n",
       " 'unwrap',\n",
       " 'ushort',\n",
       " 'vander',\n",
       " 'var',\n",
       " 'vdot',\n",
       " 'vectorize',\n",
       " 'version',\n",
       " 'void',\n",
       " 'void0',\n",
       " 'vsplit',\n",
       " 'vstack',\n",
       " 'warnings',\n",
       " 'where',\n",
       " 'who',\n",
       " 'zeros',\n",
       " 'zeros_like']"
      ]
     },
     "execution_count": 2,
     "metadata": {},
     "output_type": "execute_result"
    }
   ],
   "source": [
    "dir(np) "
   ]
  },
  {
   "cell_type": "markdown",
   "metadata": {},
   "source": [
    "Note that base Python has only 23 functions! Any others need to be imported to be used. This speeds up the load time of Python and keeps your name space clean. "
   ]
  },
  {
   "cell_type": "code",
   "execution_count": 3,
   "metadata": {
    "scrolled": true
   },
   "outputs": [
    {
     "data": {
      "text/plain": [
       "-1.0"
      ]
     },
     "execution_count": 3,
     "metadata": {},
     "output_type": "execute_result"
    }
   ],
   "source": [
    "a = np.cos(np.pi)\n",
    "a # will be printed as a default in Jupyter without using a `print` command. "
   ]
  },
  {
   "cell_type": "markdown",
   "metadata": {},
   "source": [
    "Python has the normal infix operators for addition, subtraction, etc. For exponentiation, is uses `**` unlike Matlab's or LaTeX's `^`."
   ]
  },
  {
   "cell_type": "code",
   "execution_count": 4,
   "metadata": {},
   "outputs": [
    {
     "name": "stdout",
     "output_type": "stream",
     "text": [
      "[[0 1 2]\n",
      " [3 4 5]\n",
      " [6 7 9]]\n",
      "[[1]\n",
      " [2]\n",
      " [3]]\n"
     ]
    }
   ],
   "source": [
    "# To make an array, we use the Numpy array function\n",
    "a = np.array([[0, 1, 2], [3, 4, 5], [6, 7, 9]])\n",
    "c = np.array([[1], [2], [3]])\n",
    "print(a)\n",
    "print(c)"
   ]
  },
  {
   "cell_type": "markdown",
   "metadata": {},
   "source": [
    "Linear algebra tools reside in the `numpy.linalg` package"
   ]
  },
  {
   "cell_type": "code",
   "execution_count": 5,
   "metadata": {},
   "outputs": [],
   "source": [
    "import numpy.linalg as la"
   ]
  },
  {
   "cell_type": "code",
   "execution_count": 6,
   "metadata": {},
   "outputs": [
    {
     "data": {
      "text/plain": [
       "array([[-0.66666667],\n",
       "       [ 1.        ],\n",
       "       [-0.        ]])"
      ]
     },
     "execution_count": 6,
     "metadata": {},
     "output_type": "execute_result"
    }
   ],
   "source": [
    "b = la.solve(a, c)\n",
    "b"
   ]
  },
  {
   "cell_type": "markdown",
   "metadata": {},
   "source": [
    "Python's infix operators presume element by element operations, not linear algebra operations, so be careful. It's backwards from Matlab. "
   ]
  },
  {
   "cell_type": "code",
   "execution_count": 7,
   "metadata": {},
   "outputs": [
    {
     "name": "stdout",
     "output_type": "stream",
     "text": [
      "[[0 1 2]\n",
      " [3 4 5]\n",
      " [6 7 9]]\n",
      "[[ 0  1  4]\n",
      " [ 9 16 25]\n",
      " [36 49 81]]\n"
     ]
    }
   ],
   "source": [
    "print(a)\n",
    "print(a*a)\n"
   ]
  },
  {
   "cell_type": "markdown",
   "metadata": {},
   "source": [
    "The linear algebra operation is `@` for multiplication. "
   ]
  },
  {
   "cell_type": "code",
   "execution_count": 8,
   "metadata": {
    "scrolled": true
   },
   "outputs": [
    {
     "data": {
      "text/plain": [
       "array([[ 15,  18,  23],\n",
       "       [ 42,  54,  71],\n",
       "       [ 75,  97, 128]])"
      ]
     },
     "execution_count": 8,
     "metadata": {},
     "output_type": "execute_result"
    }
   ],
   "source": [
    "a@a"
   ]
  },
  {
   "cell_type": "markdown",
   "metadata": {},
   "source": [
    "We can append matrices"
   ]
  },
  {
   "cell_type": "code",
   "execution_count": 9,
   "metadata": {},
   "outputs": [
    {
     "data": {
      "text/plain": [
       "array([[0, 1, 2],\n",
       "       [3, 4, 5],\n",
       "       [6, 7, 9],\n",
       "       [0, 1, 2],\n",
       "       [3, 4, 5],\n",
       "       [6, 7, 9]])"
      ]
     },
     "execution_count": 9,
     "metadata": {},
     "output_type": "execute_result"
    }
   ],
   "source": [
    "np.vstack((a, a))"
   ]
  },
  {
   "cell_type": "markdown",
   "metadata": {},
   "source": [
    "The construct (a, a) is a `tuple`, which is a non-mutable list. \n",
    "\n",
    "We can pull out slices. This is a very long topic, and Python has some great tricks to learn. "
   ]
  },
  {
   "cell_type": "code",
   "execution_count": 10,
   "metadata": {},
   "outputs": [
    {
     "data": {
      "text/plain": [
       "array([[0, 1, 2],\n",
       "       [3, 4, 5],\n",
       "       [6, 7, 9]])"
      ]
     },
     "execution_count": 10,
     "metadata": {},
     "output_type": "execute_result"
    }
   ],
   "source": [
    "np.vstack((a, a))[0:3,:]"
   ]
  },
  {
   "cell_type": "code",
   "execution_count": 11,
   "metadata": {},
   "outputs": [
    {
     "data": {
      "text/plain": [
       "array([[0, 1, 2],\n",
       "       [3, 4, 5],\n",
       "       [6, 7, 9]])"
      ]
     },
     "execution_count": 11,
     "metadata": {},
     "output_type": "execute_result"
    }
   ],
   "source": [
    "np.vstack((a, a))[(0,1,2),:]"
   ]
  },
  {
   "cell_type": "markdown",
   "metadata": {},
   "source": [
    "Note: \n",
    "1. We can index any object, including a result, using the square brackets. \n",
    "2. We can use `:` as a through statement\n",
    "3. The first index is inclusive, the last is exclusive. "
   ]
  },
  {
   "cell_type": "code",
   "execution_count": 12,
   "metadata": {},
   "outputs": [
    {
     "data": {
      "text/plain": [
       "array([[3, 4, 5],\n",
       "       [6, 7, 9],\n",
       "       [0, 1, 2],\n",
       "       [3, 4, 5],\n",
       "       [6, 7, 9]])"
      ]
     },
     "execution_count": 12,
     "metadata": {},
     "output_type": "execute_result"
    }
   ],
   "source": [
    "np.vstack((a, a))[1::,:] # through the end. "
   ]
  },
  {
   "cell_type": "code",
   "execution_count": 13,
   "metadata": {},
   "outputs": [
    {
     "data": {
      "text/plain": [
       "array([[0, 1, 2],\n",
       "       [6, 7, 9],\n",
       "       [3, 4, 5]])"
      ]
     },
     "execution_count": 13,
     "metadata": {},
     "output_type": "execute_result"
    }
   ],
   "source": [
    "np.vstack((a, a))[0:6:2,:] # by steps of 2."
   ]
  },
  {
   "cell_type": "markdown",
   "metadata": {},
   "source": [
    "Numpy has numerous other stacking tools. "
   ]
  },
  {
   "cell_type": "code",
   "execution_count": 14,
   "metadata": {},
   "outputs": [
    {
     "data": {
      "text/plain": [
       "array([[0, 1, 2],\n",
       "       [3, 4, 5],\n",
       "       [0, 0, 0]])"
      ]
     },
     "execution_count": 14,
     "metadata": {},
     "output_type": "execute_result"
    }
   ],
   "source": [
    "a[2, :] = np.array([[0,0,0]])\n",
    "a"
   ]
  },
  {
   "cell_type": "markdown",
   "metadata": {},
   "source": [
    "# File IO\n",
    "Let's write this to a file. \n"
   ]
  },
  {
   "cell_type": "code",
   "execution_count": 15,
   "metadata": {},
   "outputs": [],
   "source": [
    "f = open('my_filename.txt','w')\n",
    "f.write(str(a))\n",
    "f.close()"
   ]
  },
  {
   "cell_type": "code",
   "execution_count": 16,
   "metadata": {},
   "outputs": [
    {
     "data": {
      "text/plain": [
       "'[[0 1 2]\\n [3 4 5]\\n [0 0 0]]'"
      ]
     },
     "execution_count": 16,
     "metadata": {},
     "output_type": "execute_result"
    }
   ],
   "source": [
    "f = open('my_filename.txt', 'r')\n",
    "aa = f.read()\n",
    "aa"
   ]
  },
  {
   "cell_type": "markdown",
   "metadata": {},
   "source": [
    "This is a problem, it's now a string! `\\n` is the newline character."
   ]
  },
  {
   "cell_type": "code",
   "execution_count": 17,
   "metadata": {},
   "outputs": [
    {
     "name": "stdout",
     "output_type": "stream",
     "text": [
      "[[0 1 2]\n",
      " [3 4 5]\n",
      " [0 0 0]]\n"
     ]
    }
   ],
   "source": [
    "print(aa)"
   ]
  },
  {
   "cell_type": "code",
   "execution_count": 18,
   "metadata": {},
   "outputs": [
    {
     "data": {
      "text/plain": [
       "'[[0,1,2],[3,4,5],[0,0,0]]'"
      ]
     },
     "execution_count": 18,
     "metadata": {},
     "output_type": "execute_result"
    }
   ],
   "source": [
    "aa2 = aa.replace('\\n ',',').replace(' ',',')\n",
    "aa2"
   ]
  },
  {
   "cell_type": "code",
   "execution_count": 19,
   "metadata": {},
   "outputs": [
    {
     "data": {
      "text/plain": [
       "array([[0, 1, 2],\n",
       "       [3, 4, 5],\n",
       "       [0, 0, 0]])"
      ]
     },
     "execution_count": 19,
     "metadata": {},
     "output_type": "execute_result"
    }
   ],
   "source": [
    "aa2 = np.array(eval(aa2))\n",
    "aa2"
   ]
  },
  {
   "cell_type": "markdown",
   "metadata": {},
   "source": [
    "That was harder than it should have been. How about seeing if there is a function in Numpy to do this. Yes! It's `savez`."
   ]
  },
  {
   "cell_type": "code",
   "execution_count": 20,
   "metadata": {},
   "outputs": [],
   "source": [
    "np.savez('my_filename2', a=a, b=b) # The second variable name is the \n",
    "#                                    name it will be given in the file"
   ]
  },
  {
   "cell_type": "code",
   "execution_count": 21,
   "metadata": {},
   "outputs": [
    {
     "name": "stdout",
     "output_type": "stream",
     "text": [
      "0 0\n"
     ]
    }
   ],
   "source": [
    "a = b = 0\n",
    "print(a, b)"
   ]
  },
  {
   "cell_type": "code",
   "execution_count": 22,
   "metadata": {},
   "outputs": [
    {
     "name": "stdout",
     "output_type": "stream",
     "text": [
      "[[0 1 2]\n",
      " [3 4 5]\n",
      " [0 0 0]]\n",
      "[[-0.66666667]\n",
      " [ 1.        ]\n",
      " [-0.        ]]\n"
     ]
    }
   ],
   "source": [
    "mydata = np.load('my_filename2.npz')\n",
    "print(mydata['a'])\n",
    "print(mydata['b'])"
   ]
  },
  {
   "cell_type": "markdown",
   "metadata": {},
   "source": [
    "Alternatively, let's use the Matlab format!"
   ]
  },
  {
   "cell_type": "code",
   "execution_count": 23,
   "metadata": {},
   "outputs": [
    {
     "data": {
      "text/plain": [
       "{'__header__': b'MATLAB 5.0 MAT-file Platform: posix, Created on: Sat Oct  6 13:12:46 2018',\n",
       " '__version__': '1.0',\n",
       " '__globals__': [],\n",
       " 'a': array([[0, 1, 2],\n",
       "        [3, 4, 5],\n",
       "        [0, 0, 0]]),\n",
       " 'b': array([[-0.66666667],\n",
       "        [ 1.        ],\n",
       "        [-0.        ]])}"
      ]
     },
     "execution_count": 23,
     "metadata": {},
     "output_type": "execute_result"
    }
   ],
   "source": [
    "import scipy.io as sio\n",
    "sio.savemat('my_filename3', {'a':mydata['a'], 'b':mydata['b']}) # a and b are still 0!\n",
    "loaded_variables = sio.loadmat('my_filename3.mat')\n",
    "loaded_variables"
   ]
  },
  {
   "cell_type": "code",
   "execution_count": 24,
   "metadata": {},
   "outputs": [
    {
     "data": {
      "text/plain": [
       "array([[0, 1, 2],\n",
       "       [3, 4, 5],\n",
       "       [0, 0, 0]])"
      ]
     },
     "execution_count": 24,
     "metadata": {},
     "output_type": "execute_result"
    }
   ],
   "source": [
    "loaded_variables['a']"
   ]
  },
  {
   "cell_type": "markdown",
   "metadata": {},
   "source": [
    "# Numerical Methods and Plotting"
   ]
  },
  {
   "cell_type": "markdown",
   "metadata": {},
   "source": [
    "The following line imports (loads) some functions from the file\n",
    "``newton_raphson.py``. It should be easy to understand which ones. \n",
    "Loading them one at a time make sense when there is one or two.\n",
    "When their are more, you can use\n",
    "``import newton_raphson as nr`` and *all* functions will be loaded\n",
    "with names in the ``nr`` name subspace. That is, you would call the function ``newton_raphson`` as ``np.newton_raphson``. This keeps your name space from clashing and getting swamped with potentially conflicting names. "
   ]
  },
  {
   "cell_type": "code",
   "execution_count": 25,
   "metadata": {},
   "outputs": [],
   "source": [
    "import numpy as np"
   ]
  },
  {
   "cell_type": "code",
   "execution_count": 26,
   "metadata": {},
   "outputs": [
    {
     "name": "stderr",
     "output_type": "stream",
     "text": [
      "/Users/jslater/anaconda3/lib/python3.6/site-packages/matplotlib/textpath.py:324: UserWarning: The glyph (78) of font (/usr/local/texlive/2018/texmf-dist/fonts/type1/urw/ncntrsbk/uncr8a.pfb) cannot be converted with the encoding. Glyph may be wrong\n",
      "  \"be wrong\" % (glyph, font.fname))\n",
      "/Users/jslater/anaconda3/lib/python3.6/site-packages/matplotlib/textpath.py:324: UserWarning: The glyph (101) of font (/usr/local/texlive/2018/texmf-dist/fonts/type1/urw/ncntrsbk/uncr8a.pfb) cannot be converted with the encoding. Glyph may be wrong\n",
      "  \"be wrong\" % (glyph, font.fname))\n",
      "/Users/jslater/anaconda3/lib/python3.6/site-packages/matplotlib/textpath.py:324: UserWarning: The glyph (119) of font (/usr/local/texlive/2018/texmf-dist/fonts/type1/urw/ncntrsbk/uncr8a.pfb) cannot be converted with the encoding. Glyph may be wrong\n",
      "  \"be wrong\" % (glyph, font.fname))\n",
      "/Users/jslater/anaconda3/lib/python3.6/site-packages/matplotlib/textpath.py:324: UserWarning: The glyph (116) of font (/usr/local/texlive/2018/texmf-dist/fonts/type1/urw/ncntrsbk/uncr8a.pfb) cannot be converted with the encoding. Glyph may be wrong\n",
      "  \"be wrong\" % (glyph, font.fname))\n",
      "/Users/jslater/anaconda3/lib/python3.6/site-packages/matplotlib/textpath.py:324: UserWarning: The glyph (111) of font (/usr/local/texlive/2018/texmf-dist/fonts/type1/urw/ncntrsbk/uncr8a.pfb) cannot be converted with the encoding. Glyph may be wrong\n",
      "  \"be wrong\" % (glyph, font.fname))\n",
      "/Users/jslater/anaconda3/lib/python3.6/site-packages/matplotlib/textpath.py:324: UserWarning: The glyph (110) of font (/usr/local/texlive/2018/texmf-dist/fonts/type1/urw/ncntrsbk/uncr8a.pfb) cannot be converted with the encoding. Glyph may be wrong\n",
      "  \"be wrong\" % (glyph, font.fname))\n",
      "/Users/jslater/anaconda3/lib/python3.6/site-packages/matplotlib/textpath.py:324: UserWarning: The glyph (82) of font (/usr/local/texlive/2018/texmf-dist/fonts/type1/urw/ncntrsbk/uncr8a.pfb) cannot be converted with the encoding. Glyph may be wrong\n",
      "  \"be wrong\" % (glyph, font.fname))\n",
      "/Users/jslater/anaconda3/lib/python3.6/site-packages/matplotlib/textpath.py:324: UserWarning: The glyph (97) of font (/usr/local/texlive/2018/texmf-dist/fonts/type1/urw/ncntrsbk/uncr8a.pfb) cannot be converted with the encoding. Glyph may be wrong\n",
      "  \"be wrong\" % (glyph, font.fname))\n",
      "/Users/jslater/anaconda3/lib/python3.6/site-packages/matplotlib/textpath.py:324: UserWarning: The glyph (112) of font (/usr/local/texlive/2018/texmf-dist/fonts/type1/urw/ncntrsbk/uncr8a.pfb) cannot be converted with the encoding. Glyph may be wrong\n",
      "  \"be wrong\" % (glyph, font.fname))\n",
      "/Users/jslater/anaconda3/lib/python3.6/site-packages/matplotlib/textpath.py:324: UserWarning: The glyph (104) of font (/usr/local/texlive/2018/texmf-dist/fonts/type1/urw/ncntrsbk/uncr8a.pfb) cannot be converted with the encoding. Glyph may be wrong\n",
      "  \"be wrong\" % (glyph, font.fname))\n",
      "/Users/jslater/anaconda3/lib/python3.6/site-packages/matplotlib/textpath.py:324: UserWarning: The glyph (115) of font (/usr/local/texlive/2018/texmf-dist/fonts/type1/urw/ncntrsbk/uncr8a.pfb) cannot be converted with the encoding. Glyph may be wrong\n",
      "  \"be wrong\" % (glyph, font.fname))\n",
      "/Users/jslater/anaconda3/lib/python3.6/site-packages/matplotlib/textpath.py:324: UserWarning: The glyph (114) of font (/usr/local/texlive/2018/texmf-dist/fonts/type1/urw/ncntrsbk/uncr8a.pfb) cannot be converted with the encoding. Glyph may be wrong\n",
      "  \"be wrong\" % (glyph, font.fname))\n",
      "/Users/jslater/anaconda3/lib/python3.6/site-packages/matplotlib/textpath.py:324: UserWarning: The glyph (99) of font (/usr/local/texlive/2018/texmf-dist/fonts/type1/urw/ncntrsbk/uncr8a.pfb) cannot be converted with the encoding. Glyph may be wrong\n",
      "  \"be wrong\" % (glyph, font.fname))\n",
      "/Users/jslater/anaconda3/lib/python3.6/site-packages/matplotlib/textpath.py:324: UserWarning: The glyph (102) of font (/usr/local/texlive/2018/texmf-dist/fonts/type1/urw/ncntrsbk/uncr8a.pfb) cannot be converted with the encoding. Glyph may be wrong\n",
      "  \"be wrong\" % (glyph, font.fname))\n",
      "/Users/jslater/anaconda3/lib/python3.6/site-packages/matplotlib/textpath.py:324: UserWarning: The glyph (108) of font (/usr/local/texlive/2018/texmf-dist/fonts/type1/urw/ncntrsbk/uncr8a.pfb) cannot be converted with the encoding. Glyph may be wrong\n",
      "  \"be wrong\" % (glyph, font.fname))\n",
      "/Users/jslater/anaconda3/lib/python3.6/site-packages/matplotlib/textpath.py:324: UserWarning: The glyph (117) of font (/usr/local/texlive/2018/texmf-dist/fonts/type1/urw/ncntrsbk/uncr8a.pfb) cannot be converted with the encoding. Glyph may be wrong\n",
      "  \"be wrong\" % (glyph, font.fname))\n",
      "/Users/jslater/anaconda3/lib/python3.6/site-packages/matplotlib/textpath.py:324: UserWarning: The glyph (105) of font (/usr/local/texlive/2018/texmf-dist/fonts/type1/urw/ncntrsbk/uncr8a.pfb) cannot be converted with the encoding. Glyph may be wrong\n",
      "  \"be wrong\" % (glyph, font.fname))\n",
      "/Users/jslater/anaconda3/lib/python3.6/site-packages/matplotlib/textpath.py:324: UserWarning: The glyph (46) of font (/usr/local/texlive/2018/texmf-dist/fonts/type1/urw/ncntrsbk/uncr8a.pfb) cannot be converted with the encoding. Glyph may be wrong\n",
      "  \"be wrong\" % (glyph, font.fname))\n"
     ]
    },
    {
     "data": {
      "image/png": "[encoded data removed]",
      "text/plain": [
       "<Figure size 432x288 with 1 Axes>"
      ]
     },
     "metadata": {
      "needs_background": "light"
     },
     "output_type": "display_data"
    }
   ],
   "source": [
    "# See ``newton_raphson.py`` for the content of these functions. \n",
    "from newton_raphson import newton_raphson_plot\n",
    "from newton_raphson import myfunc\n",
    "function_name = 'myfunc'\n",
    "newton_raphson_plot(function_name,6)\n",
    "plt.savefig('Newton_Raphson_Solution.svg')  # There is now a file in Scaled Vector Format saved"
   ]
  },
  {
   "cell_type": "markdown",
   "metadata": {},
   "source": [
    "If you really want to understand the Jupyter *magics* uncomment the next line. (remove the '#')"
   ]
  },
  {
   "cell_type": "code",
   "execution_count": 27,
   "metadata": {},
   "outputs": [],
   "source": [
    "%magic"
   ]
  },
  {
   "cell_type": "code",
   "execution_count": 28,
   "metadata": {},
   "outputs": [
    {
     "data": {
      "text/plain": [
       "(1.2360679774997896, -7.81975583743945e-11)"
      ]
     },
     "execution_count": 28,
     "metadata": {},
     "output_type": "execute_result"
    },
    {
     "data": {
      "image/png": "[encoded data removed]",
      "text/plain": [
       "<Figure size 432x288 with 1 Axes>"
      ]
     },
     "metadata": {
      "needs_background": "light"
     },
     "output_type": "display_data"
    }
   ],
   "source": [
    "# The last line in a cell dumps all output to the page. Here we get the answer (1.236)!\n",
    "newton_raphson_plot(function_name, x0=5)"
   ]
  },
  {
   "cell_type": "code",
   "execution_count": 29,
   "metadata": {
    "scrolled": true
   },
   "outputs": [
    {
     "data": {
      "text/plain": [
       "(1.2360679775000651, -9.171621755329502e-07)"
      ]
     },
     "execution_count": 29,
     "metadata": {},
     "output_type": "execute_result"
    },
    {
     "data": {
      "image/png": "[encoded data removed]",
      "text/plain": [
       "<Figure size 432x288 with 1 Axes>"
      ]
     },
     "metadata": {
      "needs_background": "light"
     },
     "output_type": "display_data"
    }
   ],
   "source": [
    "newton_raphson_plot(function_name, x0=4)\n",
    "## For higher quality inline plots, uncomment below. \n",
    "#from IPython.display import set_matplotlib_formats\n",
    "#set_matplotlib_formats('pdf', 'svg')"
   ]
  },
  {
   "cell_type": "markdown",
   "metadata": {},
   "source": [
    "So, how is this done? Let's start by defining a *function*, or *subroutine*, etc."
   ]
  },
  {
   "cell_type": "code",
   "execution_count": 30,
   "metadata": {},
   "outputs": [],
   "source": [
    "def myfunc(x):\n",
    "#    print('I love Python')\n",
    "    return x**2+2*x-4"
   ]
  },
  {
   "cell_type": "code",
   "execution_count": 31,
   "metadata": {},
   "outputs": [
    {
     "data": {
      "text/plain": [
       "11"
      ]
     },
     "execution_count": 31,
     "metadata": {},
     "output_type": "execute_result"
    }
   ],
   "source": [
    "myfunc(3)"
   ]
  },
  {
   "cell_type": "code",
   "execution_count": 32,
   "metadata": {},
   "outputs": [
    {
     "name": "stdout",
     "output_type": "stream",
     "text": [
      "20\n"
     ]
    }
   ],
   "source": [
    "a = myfunc(4)\n",
    "print(a)"
   ]
  },
  {
   "cell_type": "markdown",
   "metadata": {},
   "source": [
    "The word *def* takes the place of *function* in Matlab. The colon, \":\", ends the line. All other lines are indented a single level. [Standard](https://www.python.org/dev/peps/pep-0008/) formating defined this as 4 spaces. \n",
    "\n",
    "* Most editors will move to four spaces is you use the *Tab* key. \n",
    "* [Standards](https://www.python.org/dev/peps/pep-0008/) for formatting are considered a big deal: \n",
    "    * You won't remember them (all).\n",
    "    * A good editor (Spyder, PyCharm, Atom) will remember them.\n",
    "        * Spyder comes as part of Scientific Python distributions\n",
    "    * They substantially enhance readability.\n",
    "    * Many editors will make this happen for you automatically on save. \n",
    "    * `autopep8` is an awesome tool to just *prettify* your code. p"
   ]
  },
  {
   "cell_type": "code",
   "execution_count": 33,
   "metadata": {
    "scrolled": true
   },
   "outputs": [],
   "source": [
    "function_name = 'myfunc'"
   ]
  },
  {
   "cell_type": "markdown",
   "metadata": {},
   "source": [
    "Plots are done similarly to Matlab. \n",
    "* We optioned here, for our sanity, to control the *name space*\n",
    "* The name *ylabel* **can still be used as a variable**!"
   ]
  },
  {
   "cell_type": "code",
   "execution_count": 34,
   "metadata": {},
   "outputs": [
    {
     "data": {
      "text/plain": [
       "4"
      ]
     },
     "execution_count": 34,
     "metadata": {},
     "output_type": "execute_result"
    }
   ],
   "source": [
    "ylabel = 4\n",
    "ylabel"
   ]
  },
  {
   "cell_type": "code",
   "execution_count": 35,
   "metadata": {},
   "outputs": [
    {
     "name": "stdout",
     "output_type": "stream",
     "text": [
      "Help on function linspace in module numpy.core.function_base:\n",
      "\n",
      "linspace(start, stop, num=50, endpoint=True, retstep=False, dtype=None)\n",
      "    Return evenly spaced numbers over a specified interval.\n",
      "    \n",
      "    Returns `num` evenly spaced samples, calculated over the\n",
      "    interval [`start`, `stop`].\n",
      "    \n",
      "    The endpoint of the interval can optionally be excluded.\n",
      "    \n",
      "    Parameters\n",
      "    ----------\n",
      "    start : scalar\n",
      "        The starting value of the sequence.\n",
      "    stop : scalar\n",
      "        The end value of the sequence, unless `endpoint` is set to False.\n",
      "        In that case, the sequence consists of all but the last of ``num + 1``\n",
      "        evenly spaced samples, so that `stop` is excluded.  Note that the step\n",
      "        size changes when `endpoint` is False.\n",
      "    num : int, optional\n",
      "        Number of samples to generate. Default is 50. Must be non-negative.\n",
      "    endpoint : bool, optional\n",
      "        If True, `stop` is the last sample. Otherwise, it is not included.\n",
      "        Default is True.\n",
      "    retstep : bool, optional\n",
      "        If True, return (`samples`, `step`), where `step` is the spacing\n",
      "        between samples.\n",
      "    dtype : dtype, optional\n",
      "        The type of the output array.  If `dtype` is not given, infer the data\n",
      "        type from the other input arguments.\n",
      "    \n",
      "        .. versionadded:: 1.9.0\n",
      "    \n",
      "    Returns\n",
      "    -------\n",
      "    samples : ndarray\n",
      "        There are `num` equally spaced samples in the closed interval\n",
      "        ``[start, stop]`` or the half-open interval ``[start, stop)``\n",
      "        (depending on whether `endpoint` is True or False).\n",
      "    step : float, optional\n",
      "        Only returned if `retstep` is True\n",
      "    \n",
      "        Size of spacing between samples.\n",
      "    \n",
      "    \n",
      "    See Also\n",
      "    --------\n",
      "    arange : Similar to `linspace`, but uses a step size (instead of the\n",
      "             number of samples).\n",
      "    logspace : Samples uniformly distributed in log space.\n",
      "    \n",
      "    Examples\n",
      "    --------\n",
      "    >>> np.linspace(2.0, 3.0, num=5)\n",
      "    array([ 2.  ,  2.25,  2.5 ,  2.75,  3.  ])\n",
      "    >>> np.linspace(2.0, 3.0, num=5, endpoint=False)\n",
      "    array([ 2. ,  2.2,  2.4,  2.6,  2.8])\n",
      "    >>> np.linspace(2.0, 3.0, num=5, retstep=True)\n",
      "    (array([ 2.  ,  2.25,  2.5 ,  2.75,  3.  ]), 0.25)\n",
      "    \n",
      "    Graphical illustration:\n",
      "    \n",
      "    >>> import matplotlib.pyplot as plt\n",
      "    >>> N = 8\n",
      "    >>> y = np.zeros(N)\n",
      "    >>> x1 = np.linspace(0, 10, N, endpoint=True)\n",
      "    >>> x2 = np.linspace(0, 10, N, endpoint=False)\n",
      "    >>> plt.plot(x1, y, 'o')\n",
      "    [<matplotlib.lines.Line2D object at 0x...>]\n",
      "    >>> plt.plot(x2, y + 0.5, 'o')\n",
      "    [<matplotlib.lines.Line2D object at 0x...>]\n",
      "    >>> plt.ylim([-0.5, 1])\n",
      "    (-0.5, 1)\n",
      "    >>> plt.show()\n",
      "\n"
     ]
    }
   ],
   "source": [
    "help(np.linspace)"
   ]
  },
  {
   "cell_type": "code",
   "execution_count": 36,
   "metadata": {},
   "outputs": [
    {
     "data": {
      "image/png": "[encoded data removed]",
      "text/plain": [
       "<Figure size 432x288 with 1 Axes>"
      ]
     },
     "metadata": {
      "needs_background": "light"
     },
     "output_type": "display_data"
    }
   ],
   "source": [
    "x = np.linspace(start = -6, stop= 4, num = 200)\n",
    "#x = np.linspace(start=-6, stop=10,num=200)\n",
    "plt.plot(x, myfunc(x))\n",
    "plt.grid(True)\n",
    "plt.ylabel('$f(x)$')\n",
    "plt.xlabel('$x$')\n",
    "plt.title('$f(x)$ versus $x$')\n",
    "plt.text(0.1,0.1,'$\\\\pi = \\\\frac{\\\\alpha^2}{\\\\beta}$')\n",
    "#plt.show()\n",
    "# To save a plot\n",
    "plt.savefig('myplot.pdf')"
   ]
  },
  {
   "cell_type": "markdown",
   "metadata": {},
   "source": [
    "Let's make it more of a qualitative chart. "
   ]
  },
  {
   "cell_type": "code",
   "execution_count": 37,
   "metadata": {},
   "outputs": [
    {
     "data": {
      "image/png": "[encoded data removed]",
      "text/plain": [
       "<Figure size 432x288 with 1 Axes>"
      ]
     },
     "metadata": {},
     "output_type": "display_data"
    }
   ],
   "source": [
    "plt.rcParams['text.usetex'] = False\n",
    "with plt.xkcd():\n",
    "    plt.plot(x,myfunc(x))\n",
    "    plt.grid(True)\n",
    "    plt.ylabel('f(x)')\n",
    "    plt.xlabel('x')\n",
    "    plt.title('f(x) versus x')\n",
    "    plt.text(0.1, 0.1, 'pi = a^2/b')\n",
    "    plt.show()"
   ]
  },
  {
   "cell_type": "code",
   "execution_count": 38,
   "metadata": {},
   "outputs": [],
   "source": [
    "def newton_raphson(function, x0 = 0, dx = 1e-10, eps = 1e-10, count = 0):\n",
    "    deltax = 2*eps\n",
    "    x = x0\n",
    "    # loop until it converges, but no more than 50 times\n",
    "    while abs(deltax) > eps and count < 50: \n",
    "        count += 1 # I can add 1 to the variable *count*. Neat Python shortcut. \n",
    "        # This is a comment\n",
    "        # The next line is \"Matlab style\" and *bad*\n",
    "        #f = eval(function + '('+ str(x) + ')')\n",
    "        f = globals()[function](x)  #We explain later. \n",
    "        #f2 = eval(function + '('+ str(x+dx) + ')')\n",
    "        f2 = globals()[function](x+dx)\n",
    "        # Calculate the slope (estimation of derivative. )\n",
    "        dfdx = (f2-f)/dx\n",
    "        # Straight line approximation of delta x to intercept y=0. \n",
    "        deltax = -f/dfdx\n",
    "        # New estimate of x. \n",
    "        x = x + deltax\n",
    "    return x, deltax, count                "
   ]
  },
  {
   "cell_type": "code",
   "execution_count": 39,
   "metadata": {},
   "outputs": [
    {
     "data": {
      "text/plain": [
       "(1.2360679774997898, -2.7585905568420595e-13, 5)"
      ]
     },
     "execution_count": 39,
     "metadata": {},
     "output_type": "execute_result"
    }
   ],
   "source": [
    "newton_raphson(function_name, x0=2)"
   ]
  },
  {
   "cell_type": "code",
   "execution_count": 40,
   "metadata": {},
   "outputs": [],
   "source": [
    "(x_soln, final_delta_x, num_steps) = newton_raphson(function_name, x0=2)"
   ]
  },
  {
   "cell_type": "code",
   "execution_count": 41,
   "metadata": {},
   "outputs": [
    {
     "name": "stdout",
     "output_type": "stream",
     "text": [
      "1.2360679774997898\n",
      "-2.7585905568420595e-13\n",
      "5\n"
     ]
    }
   ],
   "source": [
    "print(x_soln)\n",
    "print(final_delta_x)\n",
    "print(num_steps)"
   ]
  },
  {
   "cell_type": "markdown",
   "metadata": {},
   "source": [
    "Outputs and unpacking of results"
   ]
  },
  {
   "cell_type": "code",
   "execution_count": 42,
   "metadata": {},
   "outputs": [
    {
     "data": {
      "text/plain": [
       "(1.2360679774997898, -2.7585905568420595e-13, 5)"
      ]
     },
     "execution_count": 42,
     "metadata": {},
     "output_type": "execute_result"
    }
   ],
   "source": [
    "a = newton_raphson(function_name, x0=2)\n",
    "a"
   ]
  },
  {
   "cell_type": "code",
   "execution_count": 43,
   "metadata": {},
   "outputs": [
    {
     "data": {
      "text/plain": [
       "1.2360679774997898"
      ]
     },
     "execution_count": 43,
     "metadata": {},
     "output_type": "execute_result"
    }
   ],
   "source": [
    "a[0]"
   ]
  },
  {
   "cell_type": "code",
   "execution_count": 44,
   "metadata": {},
   "outputs": [
    {
     "data": {
      "text/plain": [
       "1.2360679774997898"
      ]
     },
     "execution_count": 44,
     "metadata": {},
     "output_type": "execute_result"
    }
   ],
   "source": [
    "a1, a2, a3 = a\n",
    "a1"
   ]
  },
  {
   "cell_type": "code",
   "execution_count": 45,
   "metadata": {},
   "outputs": [
    {
     "data": {
      "text/plain": [
       "2"
      ]
     },
     "execution_count": 45,
     "metadata": {},
     "output_type": "execute_result"
    }
   ],
   "source": [
    "a = 1\n",
    "b = 2\n",
    "a, b = b, a\n",
    "a"
   ]
  },
  {
   "cell_type": "code",
   "execution_count": 46,
   "metadata": {},
   "outputs": [
    {
     "name": "stdout",
     "output_type": "stream",
     "text": [
      "4.2 µs ± 258 ns per loop (mean ± std. dev. of 7 runs, 100000 loops each)\n"
     ]
    }
   ],
   "source": [
    "%%timeit #just clocking this\n",
    "newton_raphson(function_name, x0=2)"
   ]
  },
  {
   "cell_type": "code",
   "execution_count": 47,
   "metadata": {},
   "outputs": [],
   "source": [
    "# less efficient- using the eval statement\n",
    "def newton_raphson_eval(function, x0 = 0, dx = 1e-10, eps = 1e-10):\n",
    "    deltax = 2*eps\n",
    "    count = 0\n",
    "    x = x0\n",
    "    while abs(deltax) > eps and count < 50:\n",
    "        count += 1\n",
    "        f = eval(function + '('+ str(x) + ')')\n",
    "        #f = globals()[function](x)\n",
    "        f2 = eval(function + '('+ str(x+dx) + ')')\n",
    "        #f2 = globals()[function](x+dx)\n",
    "        dfdx = (f2-f)/dx\n",
    "        deltax = -f/dfdx\n",
    "        x = x + deltax\n",
    "    return x, deltax"
   ]
  },
  {
   "cell_type": "code",
   "execution_count": 48,
   "metadata": {},
   "outputs": [
    {
     "name": "stdout",
     "output_type": "stream",
     "text": [
      "76.6 µs ± 1.28 µs per loop (mean ± std. dev. of 7 runs, 10000 loops each)\n"
     ]
    }
   ],
   "source": [
    "%%timeit\n",
    "newton_raphson_eval(function_name, x0=2)"
   ]
  },
  {
   "cell_type": "markdown",
   "metadata": {},
   "source": [
    "One of the neat things about Python is that a function itself can be assigned to a variable. When we to that, the variable acts just like the function. In the following the  polynomial function ``myfunc`` defined above is assigned to the variable ``function`` to perform the search. It runs faster yet. "
   ]
  },
  {
   "cell_type": "code",
   "execution_count": 49,
   "metadata": {},
   "outputs": [],
   "source": [
    "def newton_raphson_variable(function, x0 = 0, dx = 1e-10, eps = 1e-10, count = 0):\n",
    "    deltax = 2*eps\n",
    "    x = x0\n",
    "    # loop until it converges, but no more than 50 times\n",
    "    while abs(deltax) > eps and count < 50: \n",
    "        count += 1  \n",
    "        f = function(x)  # Note that function is a variable containing the actual function\n",
    "        # It acts like the function itself. \n",
    "        f2 = function(x+dx)\n",
    "        dfdx = (f2-f)/dx # Calculate the slope (estimation of derivative. )\n",
    "        deltax = -f/dfdx # Straight line approximation of delta x to intercept y=0. \n",
    "        x = x + deltax # New estimate of x.\n",
    "    return x, deltax, count "
   ]
  },
  {
   "cell_type": "code",
   "execution_count": 50,
   "metadata": {},
   "outputs": [
    {
     "name": "stdout",
     "output_type": "stream",
     "text": [
      "3.42 µs ± 63.5 ns per loop (mean ± std. dev. of 7 runs, 100000 loops each)\n"
     ]
    }
   ],
   "source": [
    "%%timeit\n",
    "newton_raphson_variable(myfunc, x0=2)"
   ]
  },
  {
   "cell_type": "code",
   "execution_count": 51,
   "metadata": {},
   "outputs": [],
   "source": [
    "import scipy.optimize"
   ]
  },
  {
   "cell_type": "code",
   "execution_count": 52,
   "metadata": {},
   "outputs": [
    {
     "name": "stdout",
     "output_type": "stream",
     "text": [
      "2.05 ms ± 266 µs per loop (mean ± std. dev. of 7 runs, 100 loops each)\n"
     ]
    }
   ],
   "source": [
    "%%timeit\n",
    "scipy.optimize.broyden1(globals()[function_name], 2, f_tol=1e-14)"
   ]
  },
  {
   "cell_type": "code",
   "execution_count": 53,
   "metadata": {},
   "outputs": [
    {
     "name": "stdout",
     "output_type": "stream",
     "text": [
      "1.7 ms ± 284 µs per loop (mean ± std. dev. of 7 runs, 1000 loops each)\n"
     ]
    }
   ],
   "source": [
    "%%timeit\n",
    "scipy.optimize.broyden2(globals()[function_name], 2, f_tol=1e-14)"
   ]
  },
  {
   "cell_type": "code",
   "execution_count": 54,
   "metadata": {},
   "outputs": [
    {
     "name": "stdout",
     "output_type": "stream",
     "text": [
      "73.5 µs ± 8.66 µs per loop (mean ± std. dev. of 7 runs, 10000 loops each)\n"
     ]
    }
   ],
   "source": [
    "%%timeit\n",
    "scipy.optimize.root(globals()[function_name], 2)"
   ]
  },
  {
   "cell_type": "code",
   "execution_count": 55,
   "metadata": {
    "scrolled": true
   },
   "outputs": [
    {
     "name": "stdout",
     "output_type": "stream",
     "text": [
      "72.4 µs ± 5.87 µs per loop (mean ± std. dev. of 7 runs, 10000 loops each)\n"
     ]
    }
   ],
   "source": [
    "%%timeit\n",
    "scipy.optimize.fsolve(globals()[function_name], 2)"
   ]
  },
  {
   "cell_type": "markdown",
   "metadata": {},
   "source": [
    "My code is faster. How? Well, the other codes are optimized for very large problems. Mine is optimized for small problems. "
   ]
  },
  {
   "cell_type": "markdown",
   "metadata": {},
   "source": [
    "[Formatted printing](https://mkaz.tech/code/python-string-format.html) can be performed using the *.format* operator. "
   ]
  },
  {
   "cell_type": "code",
   "execution_count": 56,
   "metadata": {
    "scrolled": true
   },
   "outputs": [
    {
     "name": "stdout",
     "output_type": "stream",
     "text": [
      "3.141592653589793\n",
      "3.14\n",
      "3.1416\n",
      "    3.14    \n",
      "What if you just want to insert some stuff simply?\n"
     ]
    }
   ],
   "source": [
    "print(np.pi)\n",
    "print('{:.2f}'.format(np.pi))\n",
    "print('{:.4f}'.format(np.pi))\n",
    "print('{:^12.2f}'.format(np.pi))\n",
    "print('What if {} just {} to {} some stuff {}?'.format('you', 'want', 'insert', 'simply'))"
   ]
  },
  {
   "cell_type": "code",
   "execution_count": 57,
   "metadata": {},
   "outputs": [],
   "source": [
    "def sdof_resp(x0=1, v0=0.1, m=1, c=.1, k=10, tmax=10):\n",
    "    t = np.linspace(0, tmax, 200)\n",
    "    omega = np.sqrt(k / m)\n",
    "    zeta = c / 2 / np.sqrt(m * k)\n",
    "    if zeta < 1:\n",
    "        omega_d = omega * np.sqrt(1 - zeta**2)\n",
    "        X0 = np.sqrt(x0**2 * omega**2 + v0**2 + 2 * x0 * v0 * zeta *\n",
    "                     omega) / omega_d\n",
    "        Phi0 = np.arctan2(x0 * omega_d, (v0 + zeta * omega * x0))\n",
    "        x = X0 * np.exp(-zeta * omega * t) * np.sin(omega_d * t + Phi0)\n",
    "    else:\n",
    "        print(zeta)\n",
    "        C1 = (x0 * omega * (zeta + np.sqrt(zeta**2 - 1)) + v0\n",
    "              ) / 2 / omega / np.sqrt(zeta**2 - 1)\n",
    "        C2 = (-x0 * omega * (zeta - np.sqrt(zeta**2 - 1)) - v0\n",
    "              ) / 2 / omega / np.sqrt(zeta**2 - 1)\n",
    "        x = C1 * np.exp(\n",
    "            (-zeta + np.sqrt(zeta**2 - 1)) * omega * t) + C2 * np.exp(\n",
    "                (-zeta - np.sqrt(zeta**2 - 1)) * omega * t)\n",
    "    plt.plot(t, np.real(x))\n",
    "    plt.xlabel('$t$ (sec)')\n",
    "    plt.ylabel('$x(t)$ (m)')\n",
    "    plt.grid(True)\n",
    "    plt.title('x versus time. $\\\\zeta = ${:.2f}'.format(zeta))\n",
    "    plt.show()"
   ]
  },
  {
   "cell_type": "code",
   "execution_count": 58,
   "metadata": {},
   "outputs": [
    {
     "data": {
      "image/png": "[encoded data removed]",
      "text/plain": [
       "<Figure size 432x288 with 1 Axes>"
      ]
     },
     "metadata": {
      "needs_background": "light"
     },
     "output_type": "display_data"
    }
   ],
   "source": [
    "sdof_resp(1,0.1,1,.1,10,10)"
   ]
  },
  {
   "cell_type": "code",
   "execution_count": 59,
   "metadata": {
    "scrolled": true
   },
   "outputs": [
    {
     "data": {
      "image/png": "[encoded data removed]",
      "text/plain": [
       "<Figure size 432x288 with 1 Axes>"
      ]
     },
     "metadata": {
      "needs_background": "light"
     },
     "output_type": "display_data"
    }
   ],
   "source": [
    "sdof_resp()  # arguments aren't necessary to use the defaults."
   ]
  },
  {
   "cell_type": "code",
   "execution_count": 60,
   "metadata": {},
   "outputs": [
    {
     "data": {
      "application/vnd.jupyter.widget-view+json": {
       "model_id": "e84f9a2d769d496cb742e6a7f4b906d5",
       "version_major": 2,
       "version_minor": 0
      },
      "text/plain": [
       "interactive(children=(FloatSlider(value=1.0, description='x0', max=2.0), FloatSlider(value=0.1, description='v…"
      ]
     },
     "metadata": {},
     "output_type": "display_data"
    }
   ],
   "source": [
    "from ipywidgets import interact\n",
    "interact(sdof_resp, x0 = (0,2,0.1), v0 = (0,2,.1), m = (0,2,0.1), k = (0,100,1), c = (-1,5,.1));"
   ]
  },
  {
   "cell_type": "markdown",
   "metadata": {},
   "source": [
    "Matplotlib also handles subplots and all of the niceties Matlab has. Further, multiple high-end 3-D rendering packages exist to replace codes such as Tecplot."
   ]
  },
  {
   "cell_type": "code",
   "execution_count": 61,
   "metadata": {},
   "outputs": [
    {
     "data": {
      "text/plain": [
       "2"
      ]
     },
     "execution_count": 61,
     "metadata": {},
     "output_type": "execute_result"
    }
   ],
   "source": [
    "globals()['a']"
   ]
  },
  {
   "cell_type": "code",
   "execution_count": 62,
   "metadata": {},
   "outputs": [],
   "source": [
    "mydict = {'ham':'$2','bacon':'$3'}"
   ]
  },
  {
   "cell_type": "code",
   "execution_count": 63,
   "metadata": {},
   "outputs": [
    {
     "data": {
      "text/plain": [
       "'$2'"
      ]
     },
     "execution_count": 63,
     "metadata": {},
     "output_type": "execute_result"
    }
   ],
   "source": [
    "mydict['ham']"
   ]
  },
  {
   "cell_type": "code",
   "execution_count": 64,
   "metadata": {},
   "outputs": [],
   "source": [
    "#help('modules')"
   ]
  },
  {
   "cell_type": "code",
   "execution_count": 65,
   "metadata": {
    "scrolled": true
   },
   "outputs": [
    {
     "data": {
      "text/plain": [
       "['BFGS',\n",
       " 'Bounds',\n",
       " 'HessianUpdateStrategy',\n",
       " 'LbfgsInvHessProduct',\n",
       " 'LinearConstraint',\n",
       " 'NonlinearConstraint',\n",
       " 'OptimizeResult',\n",
       " 'OptimizeWarning',\n",
       " 'SR1',\n",
       " '__all__',\n",
       " '__builtins__',\n",
       " '__cached__',\n",
       " '__doc__',\n",
       " '__file__',\n",
       " '__loader__',\n",
       " '__name__',\n",
       " '__package__',\n",
       " '__path__',\n",
       " '__spec__',\n",
       " '_basinhopping',\n",
       " '_cobyla',\n",
       " '_constraints',\n",
       " '_differentiable_functions',\n",
       " '_differentialevolution',\n",
       " '_group_columns',\n",
       " '_hessian_update_strategy',\n",
       " '_hungarian',\n",
       " '_lbfgsb',\n",
       " '_linprog',\n",
       " '_linprog_ip',\n",
       " '_lsq',\n",
       " '_minimize',\n",
       " '_minpack',\n",
       " '_nnls',\n",
       " '_numdiff',\n",
       " '_remove_redundancy',\n",
       " '_root',\n",
       " '_slsqp',\n",
       " '_spectral',\n",
       " '_trlib',\n",
       " '_trustregion',\n",
       " '_trustregion_constr',\n",
       " '_trustregion_dogleg',\n",
       " '_trustregion_exact',\n",
       " '_trustregion_krylov',\n",
       " '_trustregion_ncg',\n",
       " '_zeros',\n",
       " 'absolute_import',\n",
       " 'anderson',\n",
       " 'approx_fprime',\n",
       " 'basinhopping',\n",
       " 'bisect',\n",
       " 'bracket',\n",
       " 'brent',\n",
       " 'brenth',\n",
       " 'brentq',\n",
       " 'broyden1',\n",
       " 'broyden2',\n",
       " 'brute',\n",
       " 'check_grad',\n",
       " 'cobyla',\n",
       " 'curve_fit',\n",
       " 'diagbroyden',\n",
       " 'differential_evolution',\n",
       " 'division',\n",
       " 'excitingmixing',\n",
       " 'fixed_point',\n",
       " 'fmin',\n",
       " 'fmin_bfgs',\n",
       " 'fmin_cg',\n",
       " 'fmin_cobyla',\n",
       " 'fmin_l_bfgs_b',\n",
       " 'fmin_ncg',\n",
       " 'fmin_powell',\n",
       " 'fmin_slsqp',\n",
       " 'fmin_tnc',\n",
       " 'fminbound',\n",
       " 'fsolve',\n",
       " 'golden',\n",
       " 'lbfgsb',\n",
       " 'least_squares',\n",
       " 'leastsq',\n",
       " 'line_search',\n",
       " 'linear_sum_assignment',\n",
       " 'linearmixing',\n",
       " 'linesearch',\n",
       " 'linprog',\n",
       " 'linprog_verbose_callback',\n",
       " 'lsq_linear',\n",
       " 'minimize',\n",
       " 'minimize_scalar',\n",
       " 'minpack',\n",
       " 'minpack2',\n",
       " 'moduleTNC',\n",
       " 'newton',\n",
       " 'newton_krylov',\n",
       " 'nnls',\n",
       " 'nonlin',\n",
       " 'optimize',\n",
       " 'print_function',\n",
       " 'ridder',\n",
       " 'root',\n",
       " 'rosen',\n",
       " 'rosen_der',\n",
       " 'rosen_hess',\n",
       " 'rosen_hess_prod',\n",
       " 'show_options',\n",
       " 'slsqp',\n",
       " 'test',\n",
       " 'tnc',\n",
       " 'zeros']"
      ]
     },
     "execution_count": 65,
     "metadata": {},
     "output_type": "execute_result"
    }
   ],
   "source": [
    "dir(scipy.optimize)"
   ]
  },
  {
   "cell_type": "code",
   "execution_count": 66,
   "metadata": {},
   "outputs": [
    {
     "name": "stdout",
     "output_type": "stream",
     "text": [
      "Help on function root in module scipy.optimize._root:\n",
      "\n",
      "root(fun, x0, args=(), method='hybr', jac=None, tol=None, callback=None, options=None)\n",
      "    Find a root of a vector function.\n",
      "    \n",
      "    Parameters\n",
      "    ----------\n",
      "    fun : callable\n",
      "        A vector function to find a root of.\n",
      "    x0 : ndarray\n",
      "        Initial guess.\n",
      "    args : tuple, optional\n",
      "        Extra arguments passed to the objective function and its Jacobian.\n",
      "    method : str, optional\n",
      "        Type of solver.  Should be one of\n",
      "    \n",
      "            - 'hybr'             :ref:`(see here) <optimize.root-hybr>`\n",
      "            - 'lm'               :ref:`(see here) <optimize.root-lm>`\n",
      "            - 'broyden1'         :ref:`(see here) <optimize.root-broyden1>`\n",
      "            - 'broyden2'         :ref:`(see here) <optimize.root-broyden2>`\n",
      "            - 'anderson'         :ref:`(see here) <optimize.root-anderson>`\n",
      "            - 'linearmixing'     :ref:`(see here) <optimize.root-linearmixing>`\n",
      "            - 'diagbroyden'      :ref:`(see here) <optimize.root-diagbroyden>`\n",
      "            - 'excitingmixing'   :ref:`(see here) <optimize.root-excitingmixing>`\n",
      "            - 'krylov'           :ref:`(see here) <optimize.root-krylov>`\n",
      "            - 'df-sane'          :ref:`(see here) <optimize.root-dfsane>`\n",
      "    \n",
      "    jac : bool or callable, optional\n",
      "        If `jac` is a Boolean and is True, `fun` is assumed to return the\n",
      "        value of Jacobian along with the objective function. If False, the\n",
      "        Jacobian will be estimated numerically.\n",
      "        `jac` can also be a callable returning the Jacobian of `fun`. In\n",
      "        this case, it must accept the same arguments as `fun`.\n",
      "    tol : float, optional\n",
      "        Tolerance for termination. For detailed control, use solver-specific\n",
      "        options.\n",
      "    callback : function, optional\n",
      "        Optional callback function. It is called on every iteration as\n",
      "        ``callback(x, f)`` where `x` is the current solution and `f`\n",
      "        the corresponding residual. For all methods but 'hybr' and 'lm'.\n",
      "    options : dict, optional\n",
      "        A dictionary of solver options. E.g. `xtol` or `maxiter`, see\n",
      "        :obj:`show_options()` for details.\n",
      "    \n",
      "    Returns\n",
      "    -------\n",
      "    sol : OptimizeResult\n",
      "        The solution represented as a ``OptimizeResult`` object.\n",
      "        Important attributes are: ``x`` the solution array, ``success`` a\n",
      "        Boolean flag indicating if the algorithm exited successfully and\n",
      "        ``message`` which describes the cause of the termination. See\n",
      "        `OptimizeResult` for a description of other attributes.\n",
      "    \n",
      "    See also\n",
      "    --------\n",
      "    show_options : Additional options accepted by the solvers\n",
      "    \n",
      "    Notes\n",
      "    -----\n",
      "    This section describes the available solvers that can be selected by the\n",
      "    'method' parameter. The default method is *hybr*.\n",
      "    \n",
      "    Method *hybr* uses a modification of the Powell hybrid method as\n",
      "    implemented in MINPACK [1]_.\n",
      "    \n",
      "    Method *lm* solves the system of nonlinear equations in a least squares\n",
      "    sense using a modification of the Levenberg-Marquardt algorithm as\n",
      "    implemented in MINPACK [1]_.\n",
      "    \n",
      "    Method *df-sane* is a derivative-free spectral method. [3]_\n",
      "    \n",
      "    Methods *broyden1*, *broyden2*, *anderson*, *linearmixing*,\n",
      "    *diagbroyden*, *excitingmixing*, *krylov* are inexact Newton methods,\n",
      "    with backtracking or full line searches [2]_. Each method corresponds\n",
      "    to a particular Jacobian approximations. See `nonlin` for details.\n",
      "    \n",
      "    - Method *broyden1* uses Broyden's first Jacobian approximation, it is\n",
      "      known as Broyden's good method.\n",
      "    - Method *broyden2* uses Broyden's second Jacobian approximation, it\n",
      "      is known as Broyden's bad method.\n",
      "    - Method *anderson* uses (extended) Anderson mixing.\n",
      "    - Method *Krylov* uses Krylov approximation for inverse Jacobian. It\n",
      "      is suitable for large-scale problem.\n",
      "    - Method *diagbroyden* uses diagonal Broyden Jacobian approximation.\n",
      "    - Method *linearmixing* uses a scalar Jacobian approximation.\n",
      "    - Method *excitingmixing* uses a tuned diagonal Jacobian\n",
      "      approximation.\n",
      "    \n",
      "    .. warning::\n",
      "    \n",
      "        The algorithms implemented for methods *diagbroyden*,\n",
      "        *linearmixing* and *excitingmixing* may be useful for specific\n",
      "        problems, but whether they will work may depend strongly on the\n",
      "        problem.\n",
      "    \n",
      "    .. versionadded:: 0.11.0\n",
      "    \n",
      "    References\n",
      "    ----------\n",
      "    .. [1] More, Jorge J., Burton S. Garbow, and Kenneth E. Hillstrom.\n",
      "       1980. User Guide for MINPACK-1.\n",
      "    .. [2] C. T. Kelley. 1995. Iterative Methods for Linear and Nonlinear\n",
      "       Equations. Society for Industrial and Applied Mathematics.\n",
      "       <http://www.siam.org/books/kelley/fr16/index.php>\n",
      "    .. [3] W. La Cruz, J.M. Martinez, M. Raydan. Math. Comp. 75, 1429 (2006).\n",
      "    \n",
      "    Examples\n",
      "    --------\n",
      "    The following functions define a system of nonlinear equations and its\n",
      "    jacobian.\n",
      "    \n",
      "    >>> def fun(x):\n",
      "    ...     return [x[0]  + 0.5 * (x[0] - x[1])**3 - 1.0,\n",
      "    ...             0.5 * (x[1] - x[0])**3 + x[1]]\n",
      "    \n",
      "    >>> def jac(x):\n",
      "    ...     return np.array([[1 + 1.5 * (x[0] - x[1])**2,\n",
      "    ...                       -1.5 * (x[0] - x[1])**2],\n",
      "    ...                      [-1.5 * (x[1] - x[0])**2,\n",
      "    ...                       1 + 1.5 * (x[1] - x[0])**2]])\n",
      "    \n",
      "    A solution can be obtained as follows.\n",
      "    \n",
      "    >>> from scipy import optimize\n",
      "    >>> sol = optimize.root(fun, [0, 0], jac=jac, method='hybr')\n",
      "    >>> sol.x\n",
      "    array([ 0.8411639,  0.1588361])\n",
      "\n"
     ]
    }
   ],
   "source": [
    "help(scipy.optimize.root)"
   ]
  },
  {
   "cell_type": "code",
   "execution_count": 67,
   "metadata": {},
   "outputs": [],
   "source": [
    "import pandas as pd"
   ]
  },
  {
   "cell_type": "code",
   "execution_count": 68,
   "metadata": {
    "scrolled": true
   },
   "outputs": [
    {
     "name": "stdout",
     "output_type": "stream",
     "text": [
      "Help on function read_excel in module pandas.io.excel:\n",
      "\n",
      "read_excel(io, sheet_name=0, header=0, names=None, index_col=None, usecols=None, squeeze=False, dtype=None, engine=None, converters=None, true_values=None, false_values=None, skiprows=None, nrows=None, na_values=None, parse_dates=False, date_parser=None, thousands=None, comment=None, skipfooter=0, convert_float=True, **kwds)\n",
      "    Read an Excel table into a pandas DataFrame\n",
      "    \n",
      "    Parameters\n",
      "    ----------\n",
      "    io : string, path object (pathlib.Path or py._path.local.LocalPath),\n",
      "        file-like object, pandas ExcelFile, or xlrd workbook.\n",
      "        The string could be a URL. Valid URL schemes include http, ftp, s3,\n",
      "        and file. For file URLs, a host is expected. For instance, a local\n",
      "        file could be file://localhost/path/to/workbook.xlsx\n",
      "    sheet_name : string, int, mixed list of strings/ints, or None, default 0\n",
      "    \n",
      "        Strings are used for sheet names, Integers are used in zero-indexed\n",
      "        sheet positions.\n",
      "    \n",
      "        Lists of strings/integers are used to request multiple sheets.\n",
      "    \n",
      "        Specify None to get all sheets.\n",
      "    \n",
      "        str|int -> DataFrame is returned.\n",
      "        list|None -> Dict of DataFrames is returned, with keys representing\n",
      "        sheets.\n",
      "    \n",
      "        Available Cases\n",
      "    \n",
      "        * Defaults to 0 -> 1st sheet as a DataFrame\n",
      "        * 1 -> 2nd sheet as a DataFrame\n",
      "        * \"Sheet1\" -> 1st sheet as a DataFrame\n",
      "        * [0,1,\"Sheet5\"] -> 1st, 2nd & 5th sheet as a dictionary of DataFrames\n",
      "        * None -> All sheets as a dictionary of DataFrames\n",
      "    \n",
      "    sheetname : string, int, mixed list of strings/ints, or None, default 0\n",
      "    \n",
      "        .. deprecated:: 0.21.0\n",
      "           Use `sheet_name` instead\n",
      "    \n",
      "    header : int, list of ints, default 0\n",
      "        Row (0-indexed) to use for the column labels of the parsed\n",
      "        DataFrame. If a list of integers is passed those row positions will\n",
      "        be combined into a ``MultiIndex``. Use None if there is no header.\n",
      "    names : array-like, default None\n",
      "        List of column names to use. If file contains no header row,\n",
      "        then you should explicitly pass header=None\n",
      "    index_col : int, list of ints, default None\n",
      "        Column (0-indexed) to use as the row labels of the DataFrame.\n",
      "        Pass None if there is no such column.  If a list is passed,\n",
      "        those columns will be combined into a ``MultiIndex``.  If a\n",
      "        subset of data is selected with ``usecols``, index_col\n",
      "        is based on the subset.\n",
      "    parse_cols : int or list, default None\n",
      "    \n",
      "        .. deprecated:: 0.21.0\n",
      "           Pass in `usecols` instead.\n",
      "    \n",
      "    usecols : int or list, default None\n",
      "        * If None then parse all columns,\n",
      "        * If int then indicates last column to be parsed\n",
      "        * If list of ints then indicates list of column numbers to be parsed\n",
      "        * If string then indicates comma separated list of Excel column letters and\n",
      "          column ranges (e.g. \"A:E\" or \"A,C,E:F\").  Ranges are inclusive of\n",
      "          both sides.\n",
      "    squeeze : boolean, default False\n",
      "        If the parsed data only contains one column then return a Series\n",
      "    dtype : Type name or dict of column -> type, default None\n",
      "        Data type for data or columns. E.g. {'a': np.float64, 'b': np.int32}\n",
      "        Use `object` to preserve data as stored in Excel and not interpret dtype.\n",
      "        If converters are specified, they will be applied INSTEAD\n",
      "        of dtype conversion.\n",
      "    \n",
      "        .. versionadded:: 0.20.0\n",
      "    \n",
      "    engine: string, default None\n",
      "        If io is not a buffer or path, this must be set to identify io.\n",
      "        Acceptable values are None or xlrd\n",
      "    converters : dict, default None\n",
      "        Dict of functions for converting values in certain columns. Keys can\n",
      "        either be integers or column labels, values are functions that take one\n",
      "        input argument, the Excel cell content, and return the transformed\n",
      "        content.\n",
      "    true_values : list, default None\n",
      "        Values to consider as True\n",
      "    \n",
      "        .. versionadded:: 0.19.0\n",
      "    \n",
      "    false_values : list, default None\n",
      "        Values to consider as False\n",
      "    \n",
      "        .. versionadded:: 0.19.0\n",
      "    \n",
      "    skiprows : list-like\n",
      "        Rows to skip at the beginning (0-indexed)\n",
      "    nrows : int, default None\n",
      "        Number of rows to parse\n",
      "    \n",
      "        .. versionadded:: 0.23.0\n",
      "    \n",
      "    na_values : scalar, str, list-like, or dict, default None\n",
      "        Additional strings to recognize as NA/NaN. If dict passed, specific\n",
      "        per-column NA values. By default the following values are interpreted\n",
      "        as NaN: '', '#N/A', '#N/A N/A', '#NA', '-1.#IND', '-1.#QNAN', '-NaN', '-nan',\n",
      "        '1.#IND', '1.#QNAN', 'N/A', 'NA', 'NULL', 'NaN', 'n/a', 'nan',\n",
      "        'null'.\n",
      "    keep_default_na : bool, default True\n",
      "        If na_values are specified and keep_default_na is False the default NaN\n",
      "        values are overridden, otherwise they're appended to.\n",
      "    verbose : boolean, default False\n",
      "        Indicate number of NA values placed in non-numeric columns\n",
      "    thousands : str, default None\n",
      "        Thousands separator for parsing string columns to numeric.  Note that\n",
      "        this parameter is only necessary for columns stored as TEXT in Excel,\n",
      "        any numeric columns will automatically be parsed, regardless of display\n",
      "        format.\n",
      "    comment : str, default None\n",
      "        Comments out remainder of line. Pass a character or characters to this\n",
      "        argument to indicate comments in the input file. Any data between the\n",
      "        comment string and the end of the current line is ignored.\n",
      "    skip_footer : int, default 0\n",
      "    \n",
      "        .. deprecated:: 0.23.0\n",
      "           Pass in `skipfooter` instead.\n",
      "    skipfooter : int, default 0\n",
      "        Rows at the end to skip (0-indexed)\n",
      "    convert_float : boolean, default True\n",
      "        convert integral floats to int (i.e., 1.0 --> 1). If False, all numeric\n",
      "        data will be read in as floats: Excel stores all numbers as floats\n",
      "        internally\n",
      "    \n",
      "    Returns\n",
      "    -------\n",
      "    parsed : DataFrame or Dict of DataFrames\n",
      "        DataFrame from the passed in Excel file.  See notes in sheet_name\n",
      "        argument for more information on when a Dict of Dataframes is returned.\n",
      "    \n",
      "    Examples\n",
      "    --------\n",
      "    \n",
      "    An example DataFrame written to a local file\n",
      "    \n",
      "    >>> df_out = pd.DataFrame([('string1', 1),\n",
      "    ...                        ('string2', 2),\n",
      "    ...                        ('string3', 3)],\n",
      "    ...                       columns=['Name', 'Value'])\n",
      "    >>> df_out\n",
      "          Name  Value\n",
      "    0  string1      1\n",
      "    1  string2      2\n",
      "    2  string3      3\n",
      "    >>> df_out.to_excel('tmp.xlsx')\n",
      "    \n",
      "    The file can be read using the file name as string or an open file object:\n",
      "    \n",
      "    >>> pd.read_excel('tmp.xlsx')\n",
      "          Name  Value\n",
      "    0  string1      1\n",
      "    1  string2      2\n",
      "    2  string3      3\n",
      "    \n",
      "    >>> pd.read_excel(open('tmp.xlsx','rb'))\n",
      "          Name  Value\n",
      "    0  string1      1\n",
      "    1  string2      2\n",
      "    2  string3      3\n",
      "    \n",
      "    Index and header can be specified via the `index_col` and `header` arguments\n",
      "    \n",
      "    >>> pd.read_excel('tmp.xlsx', index_col=None, header=None)\n",
      "         0        1      2\n",
      "    0  NaN     Name  Value\n",
      "    1  0.0  string1      1\n",
      "    2  1.0  string2      2\n",
      "    3  2.0  string3      3\n",
      "    \n",
      "    Column types are inferred but can be explicitly specified\n",
      "    \n",
      "    >>> pd.read_excel('tmp.xlsx', dtype={'Name':str, 'Value':float})\n",
      "          Name  Value\n",
      "    0  string1    1.0\n",
      "    1  string2    2.0\n",
      "    2  string3    3.0\n",
      "    \n",
      "    True, False, and NA values, and thousands separators have defaults,\n",
      "    but can be explicitly specified, too. Supply the values you would like\n",
      "    as strings or lists of strings!\n",
      "    \n",
      "    >>> pd.read_excel('tmp.xlsx',\n",
      "    ...               na_values=['string1', 'string2'])\n",
      "          Name  Value\n",
      "    0      NaN      1\n",
      "    1      NaN      2\n",
      "    2  string3      3\n",
      "    \n",
      "    Comment lines in the excel input file can be skipped using the `comment` kwarg\n",
      "    \n",
      "    >>> df = pd.DataFrame({'a': ['1', '#2'], 'b': ['2', '3']})\n",
      "    >>> df.to_excel('tmp.xlsx', index=False)\n",
      "    >>> pd.read_excel('tmp.xlsx')\n",
      "        a  b\n",
      "    0   1  2\n",
      "    1  #2  3\n",
      "    \n",
      "    >>> pd.read_excel('tmp.xlsx', comment='#')\n",
      "       a  b\n",
      "    0  1  2\n",
      "\n"
     ]
    }
   ],
   "source": [
    "help(pd.read_excel)"
   ]
  },
  {
   "cell_type": "code",
   "execution_count": 69,
   "metadata": {},
   "outputs": [],
   "source": [
    "df = pd.read_excel('Financial_Sample.xlsx')"
   ]
  },
  {
   "cell_type": "code",
   "execution_count": 70,
   "metadata": {},
   "outputs": [
    {
     "data": {
      "text/html": [
       "<div>\n",
       "<style scoped>\n",
       "    .dataframe tbody tr th:only-of-type {\n",
       "        vertical-align: middle;\n",
       "    }\n",
       "\n",
       "    .dataframe tbody tr th {\n",
       "        vertical-align: top;\n",
       "    }\n",
       "\n",
       "    .dataframe thead th {\n",
       "        text-align: right;\n",
       "    }\n",
       "</style>\n",
       "<table border=\"1\" class=\"dataframe\">\n",
       "  <thead>\n",
       "    <tr style=\"text-align: right;\">\n",
       "      <th></th>\n",
       "      <th>Segment</th>\n",
       "      <th>Country</th>\n",
       "      <th>Product</th>\n",
       "      <th>Discount Band</th>\n",
       "      <th>Units Sold</th>\n",
       "      <th>Manufacturing Price</th>\n",
       "      <th>Sale Price</th>\n",
       "      <th>Gross Sales</th>\n",
       "      <th>Discounts</th>\n",
       "      <th>Sales</th>\n",
       "      <th>COGS</th>\n",
       "      <th>Profit</th>\n",
       "      <th>Date</th>\n",
       "      <th>Month Number</th>\n",
       "      <th>Month Name</th>\n",
       "      <th>Year</th>\n",
       "    </tr>\n",
       "  </thead>\n",
       "  <tbody>\n",
       "    <tr>\n",
       "      <th>0</th>\n",
       "      <td>Government</td>\n",
       "      <td>Canada</td>\n",
       "      <td>Carretera</td>\n",
       "      <td>None</td>\n",
       "      <td>1618.5</td>\n",
       "      <td>3</td>\n",
       "      <td>20</td>\n",
       "      <td>32370.0</td>\n",
       "      <td>0.00</td>\n",
       "      <td>32370.00</td>\n",
       "      <td>16185.0</td>\n",
       "      <td>16185.00</td>\n",
       "      <td>2014-01-01</td>\n",
       "      <td>1</td>\n",
       "      <td>January</td>\n",
       "      <td>2014</td>\n",
       "    </tr>\n",
       "    <tr>\n",
       "      <th>1</th>\n",
       "      <td>Government</td>\n",
       "      <td>Germany</td>\n",
       "      <td>Carretera</td>\n",
       "      <td>None</td>\n",
       "      <td>1321.0</td>\n",
       "      <td>3</td>\n",
       "      <td>20</td>\n",
       "      <td>26420.0</td>\n",
       "      <td>0.00</td>\n",
       "      <td>26420.00</td>\n",
       "      <td>13210.0</td>\n",
       "      <td>13210.00</td>\n",
       "      <td>2014-01-01</td>\n",
       "      <td>1</td>\n",
       "      <td>January</td>\n",
       "      <td>2014</td>\n",
       "    </tr>\n",
       "    <tr>\n",
       "      <th>2</th>\n",
       "      <td>Midmarket</td>\n",
       "      <td>France</td>\n",
       "      <td>Carretera</td>\n",
       "      <td>None</td>\n",
       "      <td>2178.0</td>\n",
       "      <td>3</td>\n",
       "      <td>15</td>\n",
       "      <td>32670.0</td>\n",
       "      <td>0.00</td>\n",
       "      <td>32670.00</td>\n",
       "      <td>21780.0</td>\n",
       "      <td>10890.00</td>\n",
       "      <td>2014-06-01</td>\n",
       "      <td>6</td>\n",
       "      <td>June</td>\n",
       "      <td>2014</td>\n",
       "    </tr>\n",
       "    <tr>\n",
       "      <th>3</th>\n",
       "      <td>Midmarket</td>\n",
       "      <td>Germany</td>\n",
       "      <td>Carretera</td>\n",
       "      <td>None</td>\n",
       "      <td>888.0</td>\n",
       "      <td>3</td>\n",
       "      <td>15</td>\n",
       "      <td>13320.0</td>\n",
       "      <td>0.00</td>\n",
       "      <td>13320.00</td>\n",
       "      <td>8880.0</td>\n",
       "      <td>4440.00</td>\n",
       "      <td>2014-06-01</td>\n",
       "      <td>6</td>\n",
       "      <td>June</td>\n",
       "      <td>2014</td>\n",
       "    </tr>\n",
       "    <tr>\n",
       "      <th>4</th>\n",
       "      <td>Midmarket</td>\n",
       "      <td>Mexico</td>\n",
       "      <td>Carretera</td>\n",
       "      <td>None</td>\n",
       "      <td>2470.0</td>\n",
       "      <td>3</td>\n",
       "      <td>15</td>\n",
       "      <td>37050.0</td>\n",
       "      <td>0.00</td>\n",
       "      <td>37050.00</td>\n",
       "      <td>24700.0</td>\n",
       "      <td>12350.00</td>\n",
       "      <td>2014-06-01</td>\n",
       "      <td>6</td>\n",
       "      <td>June</td>\n",
       "      <td>2014</td>\n",
       "    </tr>\n",
       "    <tr>\n",
       "      <th>5</th>\n",
       "      <td>Government</td>\n",
       "      <td>Germany</td>\n",
       "      <td>Carretera</td>\n",
       "      <td>None</td>\n",
       "      <td>1513.0</td>\n",
       "      <td>3</td>\n",
       "      <td>350</td>\n",
       "      <td>529550.0</td>\n",
       "      <td>0.00</td>\n",
       "      <td>529550.00</td>\n",
       "      <td>393380.0</td>\n",
       "      <td>136170.00</td>\n",
       "      <td>2014-12-01</td>\n",
       "      <td>12</td>\n",
       "      <td>December</td>\n",
       "      <td>2014</td>\n",
       "    </tr>\n",
       "    <tr>\n",
       "      <th>6</th>\n",
       "      <td>Midmarket</td>\n",
       "      <td>Germany</td>\n",
       "      <td>Montana</td>\n",
       "      <td>None</td>\n",
       "      <td>921.0</td>\n",
       "      <td>5</td>\n",
       "      <td>15</td>\n",
       "      <td>13815.0</td>\n",
       "      <td>0.00</td>\n",
       "      <td>13815.00</td>\n",
       "      <td>9210.0</td>\n",
       "      <td>4605.00</td>\n",
       "      <td>2014-03-01</td>\n",
       "      <td>3</td>\n",
       "      <td>March</td>\n",
       "      <td>2014</td>\n",
       "    </tr>\n",
       "    <tr>\n",
       "      <th>7</th>\n",
       "      <td>Channel Partners</td>\n",
       "      <td>Canada</td>\n",
       "      <td>Montana</td>\n",
       "      <td>None</td>\n",
       "      <td>2518.0</td>\n",
       "      <td>5</td>\n",
       "      <td>12</td>\n",
       "      <td>30216.0</td>\n",
       "      <td>0.00</td>\n",
       "      <td>30216.00</td>\n",
       "      <td>7554.0</td>\n",
       "      <td>22662.00</td>\n",
       "      <td>2014-06-01</td>\n",
       "      <td>6</td>\n",
       "      <td>June</td>\n",
       "      <td>2014</td>\n",
       "    </tr>\n",
       "    <tr>\n",
       "      <th>8</th>\n",
       "      <td>Government</td>\n",
       "      <td>France</td>\n",
       "      <td>Montana</td>\n",
       "      <td>None</td>\n",
       "      <td>1899.0</td>\n",
       "      <td>5</td>\n",
       "      <td>20</td>\n",
       "      <td>37980.0</td>\n",
       "      <td>0.00</td>\n",
       "      <td>37980.00</td>\n",
       "      <td>18990.0</td>\n",
       "      <td>18990.00</td>\n",
       "      <td>2014-06-01</td>\n",
       "      <td>6</td>\n",
       "      <td>June</td>\n",
       "      <td>2014</td>\n",
       "    </tr>\n",
       "    <tr>\n",
       "      <th>9</th>\n",
       "      <td>Channel Partners</td>\n",
       "      <td>Germany</td>\n",
       "      <td>Montana</td>\n",
       "      <td>None</td>\n",
       "      <td>1545.0</td>\n",
       "      <td>5</td>\n",
       "      <td>12</td>\n",
       "      <td>18540.0</td>\n",
       "      <td>0.00</td>\n",
       "      <td>18540.00</td>\n",
       "      <td>4635.0</td>\n",
       "      <td>13905.00</td>\n",
       "      <td>2014-06-01</td>\n",
       "      <td>6</td>\n",
       "      <td>June</td>\n",
       "      <td>2014</td>\n",
       "    </tr>\n",
       "    <tr>\n",
       "      <th>10</th>\n",
       "      <td>Midmarket</td>\n",
       "      <td>Mexico</td>\n",
       "      <td>Montana</td>\n",
       "      <td>None</td>\n",
       "      <td>2470.0</td>\n",
       "      <td>5</td>\n",
       "      <td>15</td>\n",
       "      <td>37050.0</td>\n",
       "      <td>0.00</td>\n",
       "      <td>37050.00</td>\n",
       "      <td>24700.0</td>\n",
       "      <td>12350.00</td>\n",
       "      <td>2014-06-01</td>\n",
       "      <td>6</td>\n",
       "      <td>June</td>\n",
       "      <td>2014</td>\n",
       "    </tr>\n",
       "    <tr>\n",
       "      <th>11</th>\n",
       "      <td>Enterprise</td>\n",
       "      <td>Canada</td>\n",
       "      <td>Montana</td>\n",
       "      <td>None</td>\n",
       "      <td>2665.5</td>\n",
       "      <td>5</td>\n",
       "      <td>125</td>\n",
       "      <td>333187.5</td>\n",
       "      <td>0.00</td>\n",
       "      <td>333187.50</td>\n",
       "      <td>319860.0</td>\n",
       "      <td>13327.50</td>\n",
       "      <td>2014-07-01</td>\n",
       "      <td>7</td>\n",
       "      <td>July</td>\n",
       "      <td>2014</td>\n",
       "    </tr>\n",
       "    <tr>\n",
       "      <th>12</th>\n",
       "      <td>Small Business</td>\n",
       "      <td>Mexico</td>\n",
       "      <td>Montana</td>\n",
       "      <td>None</td>\n",
       "      <td>958.0</td>\n",
       "      <td>5</td>\n",
       "      <td>300</td>\n",
       "      <td>287400.0</td>\n",
       "      <td>0.00</td>\n",
       "      <td>287400.00</td>\n",
       "      <td>239500.0</td>\n",
       "      <td>47900.00</td>\n",
       "      <td>2014-08-01</td>\n",
       "      <td>8</td>\n",
       "      <td>August</td>\n",
       "      <td>2014</td>\n",
       "    </tr>\n",
       "    <tr>\n",
       "      <th>13</th>\n",
       "      <td>Government</td>\n",
       "      <td>Germany</td>\n",
       "      <td>Montana</td>\n",
       "      <td>None</td>\n",
       "      <td>2146.0</td>\n",
       "      <td>5</td>\n",
       "      <td>7</td>\n",
       "      <td>15022.0</td>\n",
       "      <td>0.00</td>\n",
       "      <td>15022.00</td>\n",
       "      <td>10730.0</td>\n",
       "      <td>4292.00</td>\n",
       "      <td>2014-09-01</td>\n",
       "      <td>9</td>\n",
       "      <td>September</td>\n",
       "      <td>2014</td>\n",
       "    </tr>\n",
       "    <tr>\n",
       "      <th>14</th>\n",
       "      <td>Enterprise</td>\n",
       "      <td>Canada</td>\n",
       "      <td>Montana</td>\n",
       "      <td>None</td>\n",
       "      <td>345.0</td>\n",
       "      <td>5</td>\n",
       "      <td>125</td>\n",
       "      <td>43125.0</td>\n",
       "      <td>0.00</td>\n",
       "      <td>43125.00</td>\n",
       "      <td>41400.0</td>\n",
       "      <td>1725.00</td>\n",
       "      <td>2013-10-01</td>\n",
       "      <td>10</td>\n",
       "      <td>October</td>\n",
       "      <td>2013</td>\n",
       "    </tr>\n",
       "    <tr>\n",
       "      <th>15</th>\n",
       "      <td>Midmarket</td>\n",
       "      <td>United States of America</td>\n",
       "      <td>Montana</td>\n",
       "      <td>None</td>\n",
       "      <td>615.0</td>\n",
       "      <td>5</td>\n",
       "      <td>15</td>\n",
       "      <td>9225.0</td>\n",
       "      <td>0.00</td>\n",
       "      <td>9225.00</td>\n",
       "      <td>6150.0</td>\n",
       "      <td>3075.00</td>\n",
       "      <td>2014-12-01</td>\n",
       "      <td>12</td>\n",
       "      <td>December</td>\n",
       "      <td>2014</td>\n",
       "    </tr>\n",
       "    <tr>\n",
       "      <th>16</th>\n",
       "      <td>Government</td>\n",
       "      <td>Canada</td>\n",
       "      <td>Paseo</td>\n",
       "      <td>None</td>\n",
       "      <td>292.0</td>\n",
       "      <td>10</td>\n",
       "      <td>20</td>\n",
       "      <td>5840.0</td>\n",
       "      <td>0.00</td>\n",
       "      <td>5840.00</td>\n",
       "      <td>2920.0</td>\n",
       "      <td>2920.00</td>\n",
       "      <td>2014-02-01</td>\n",
       "      <td>2</td>\n",
       "      <td>February</td>\n",
       "      <td>2014</td>\n",
       "    </tr>\n",
       "    <tr>\n",
       "      <th>17</th>\n",
       "      <td>Midmarket</td>\n",
       "      <td>Mexico</td>\n",
       "      <td>Paseo</td>\n",
       "      <td>None</td>\n",
       "      <td>974.0</td>\n",
       "      <td>10</td>\n",
       "      <td>15</td>\n",
       "      <td>14610.0</td>\n",
       "      <td>0.00</td>\n",
       "      <td>14610.00</td>\n",
       "      <td>9740.0</td>\n",
       "      <td>4870.00</td>\n",
       "      <td>2014-02-01</td>\n",
       "      <td>2</td>\n",
       "      <td>February</td>\n",
       "      <td>2014</td>\n",
       "    </tr>\n",
       "    <tr>\n",
       "      <th>18</th>\n",
       "      <td>Channel Partners</td>\n",
       "      <td>Canada</td>\n",
       "      <td>Paseo</td>\n",
       "      <td>None</td>\n",
       "      <td>2518.0</td>\n",
       "      <td>10</td>\n",
       "      <td>12</td>\n",
       "      <td>30216.0</td>\n",
       "      <td>0.00</td>\n",
       "      <td>30216.00</td>\n",
       "      <td>7554.0</td>\n",
       "      <td>22662.00</td>\n",
       "      <td>2014-06-01</td>\n",
       "      <td>6</td>\n",
       "      <td>June</td>\n",
       "      <td>2014</td>\n",
       "    </tr>\n",
       "    <tr>\n",
       "      <th>19</th>\n",
       "      <td>Government</td>\n",
       "      <td>Germany</td>\n",
       "      <td>Paseo</td>\n",
       "      <td>None</td>\n",
       "      <td>1006.0</td>\n",
       "      <td>10</td>\n",
       "      <td>350</td>\n",
       "      <td>352100.0</td>\n",
       "      <td>0.00</td>\n",
       "      <td>352100.00</td>\n",
       "      <td>261560.0</td>\n",
       "      <td>90540.00</td>\n",
       "      <td>2014-06-01</td>\n",
       "      <td>6</td>\n",
       "      <td>June</td>\n",
       "      <td>2014</td>\n",
       "    </tr>\n",
       "    <tr>\n",
       "      <th>20</th>\n",
       "      <td>Channel Partners</td>\n",
       "      <td>Germany</td>\n",
       "      <td>Paseo</td>\n",
       "      <td>None</td>\n",
       "      <td>367.0</td>\n",
       "      <td>10</td>\n",
       "      <td>12</td>\n",
       "      <td>4404.0</td>\n",
       "      <td>0.00</td>\n",
       "      <td>4404.00</td>\n",
       "      <td>1101.0</td>\n",
       "      <td>3303.00</td>\n",
       "      <td>2014-07-01</td>\n",
       "      <td>7</td>\n",
       "      <td>July</td>\n",
       "      <td>2014</td>\n",
       "    </tr>\n",
       "    <tr>\n",
       "      <th>21</th>\n",
       "      <td>Government</td>\n",
       "      <td>Mexico</td>\n",
       "      <td>Paseo</td>\n",
       "      <td>None</td>\n",
       "      <td>883.0</td>\n",
       "      <td>10</td>\n",
       "      <td>7</td>\n",
       "      <td>6181.0</td>\n",
       "      <td>0.00</td>\n",
       "      <td>6181.00</td>\n",
       "      <td>4415.0</td>\n",
       "      <td>1766.00</td>\n",
       "      <td>2014-08-01</td>\n",
       "      <td>8</td>\n",
       "      <td>August</td>\n",
       "      <td>2014</td>\n",
       "    </tr>\n",
       "    <tr>\n",
       "      <th>22</th>\n",
       "      <td>Midmarket</td>\n",
       "      <td>France</td>\n",
       "      <td>Paseo</td>\n",
       "      <td>None</td>\n",
       "      <td>549.0</td>\n",
       "      <td>10</td>\n",
       "      <td>15</td>\n",
       "      <td>8235.0</td>\n",
       "      <td>0.00</td>\n",
       "      <td>8235.00</td>\n",
       "      <td>5490.0</td>\n",
       "      <td>2745.00</td>\n",
       "      <td>2013-09-01</td>\n",
       "      <td>9</td>\n",
       "      <td>September</td>\n",
       "      <td>2013</td>\n",
       "    </tr>\n",
       "    <tr>\n",
       "      <th>23</th>\n",
       "      <td>Small Business</td>\n",
       "      <td>Mexico</td>\n",
       "      <td>Paseo</td>\n",
       "      <td>None</td>\n",
       "      <td>788.0</td>\n",
       "      <td>10</td>\n",
       "      <td>300</td>\n",
       "      <td>236400.0</td>\n",
       "      <td>0.00</td>\n",
       "      <td>236400.00</td>\n",
       "      <td>197000.0</td>\n",
       "      <td>39400.00</td>\n",
       "      <td>2013-09-01</td>\n",
       "      <td>9</td>\n",
       "      <td>September</td>\n",
       "      <td>2013</td>\n",
       "    </tr>\n",
       "    <tr>\n",
       "      <th>24</th>\n",
       "      <td>Midmarket</td>\n",
       "      <td>Mexico</td>\n",
       "      <td>Paseo</td>\n",
       "      <td>None</td>\n",
       "      <td>2472.0</td>\n",
       "      <td>10</td>\n",
       "      <td>15</td>\n",
       "      <td>37080.0</td>\n",
       "      <td>0.00</td>\n",
       "      <td>37080.00</td>\n",
       "      <td>24720.0</td>\n",
       "      <td>12360.00</td>\n",
       "      <td>2014-09-01</td>\n",
       "      <td>9</td>\n",
       "      <td>September</td>\n",
       "      <td>2014</td>\n",
       "    </tr>\n",
       "    <tr>\n",
       "      <th>25</th>\n",
       "      <td>Government</td>\n",
       "      <td>United States of America</td>\n",
       "      <td>Paseo</td>\n",
       "      <td>None</td>\n",
       "      <td>1143.0</td>\n",
       "      <td>10</td>\n",
       "      <td>7</td>\n",
       "      <td>8001.0</td>\n",
       "      <td>0.00</td>\n",
       "      <td>8001.00</td>\n",
       "      <td>5715.0</td>\n",
       "      <td>2286.00</td>\n",
       "      <td>2014-10-01</td>\n",
       "      <td>10</td>\n",
       "      <td>October</td>\n",
       "      <td>2014</td>\n",
       "    </tr>\n",
       "    <tr>\n",
       "      <th>26</th>\n",
       "      <td>Government</td>\n",
       "      <td>Canada</td>\n",
       "      <td>Paseo</td>\n",
       "      <td>None</td>\n",
       "      <td>1725.0</td>\n",
       "      <td>10</td>\n",
       "      <td>350</td>\n",
       "      <td>603750.0</td>\n",
       "      <td>0.00</td>\n",
       "      <td>603750.00</td>\n",
       "      <td>448500.0</td>\n",
       "      <td>155250.00</td>\n",
       "      <td>2013-11-01</td>\n",
       "      <td>11</td>\n",
       "      <td>November</td>\n",
       "      <td>2013</td>\n",
       "    </tr>\n",
       "    <tr>\n",
       "      <th>27</th>\n",
       "      <td>Channel Partners</td>\n",
       "      <td>United States of America</td>\n",
       "      <td>Paseo</td>\n",
       "      <td>None</td>\n",
       "      <td>912.0</td>\n",
       "      <td>10</td>\n",
       "      <td>12</td>\n",
       "      <td>10944.0</td>\n",
       "      <td>0.00</td>\n",
       "      <td>10944.00</td>\n",
       "      <td>2736.0</td>\n",
       "      <td>8208.00</td>\n",
       "      <td>2013-11-01</td>\n",
       "      <td>11</td>\n",
       "      <td>November</td>\n",
       "      <td>2013</td>\n",
       "    </tr>\n",
       "    <tr>\n",
       "      <th>28</th>\n",
       "      <td>Midmarket</td>\n",
       "      <td>Canada</td>\n",
       "      <td>Paseo</td>\n",
       "      <td>None</td>\n",
       "      <td>2152.0</td>\n",
       "      <td>10</td>\n",
       "      <td>15</td>\n",
       "      <td>32280.0</td>\n",
       "      <td>0.00</td>\n",
       "      <td>32280.00</td>\n",
       "      <td>21520.0</td>\n",
       "      <td>10760.00</td>\n",
       "      <td>2013-12-01</td>\n",
       "      <td>12</td>\n",
       "      <td>December</td>\n",
       "      <td>2013</td>\n",
       "    </tr>\n",
       "    <tr>\n",
       "      <th>29</th>\n",
       "      <td>Government</td>\n",
       "      <td>Canada</td>\n",
       "      <td>Paseo</td>\n",
       "      <td>None</td>\n",
       "      <td>1817.0</td>\n",
       "      <td>10</td>\n",
       "      <td>20</td>\n",
       "      <td>36340.0</td>\n",
       "      <td>0.00</td>\n",
       "      <td>36340.00</td>\n",
       "      <td>18170.0</td>\n",
       "      <td>18170.00</td>\n",
       "      <td>2014-12-01</td>\n",
       "      <td>12</td>\n",
       "      <td>December</td>\n",
       "      <td>2014</td>\n",
       "    </tr>\n",
       "    <tr>\n",
       "      <th>...</th>\n",
       "      <td>...</td>\n",
       "      <td>...</td>\n",
       "      <td>...</td>\n",
       "      <td>...</td>\n",
       "      <td>...</td>\n",
       "      <td>...</td>\n",
       "      <td>...</td>\n",
       "      <td>...</td>\n",
       "      <td>...</td>\n",
       "      <td>...</td>\n",
       "      <td>...</td>\n",
       "      <td>...</td>\n",
       "      <td>...</td>\n",
       "      <td>...</td>\n",
       "      <td>...</td>\n",
       "      <td>...</td>\n",
       "    </tr>\n",
       "    <tr>\n",
       "      <th>670</th>\n",
       "      <td>Government</td>\n",
       "      <td>Germany</td>\n",
       "      <td>Paseo</td>\n",
       "      <td>High</td>\n",
       "      <td>1158.0</td>\n",
       "      <td>10</td>\n",
       "      <td>20</td>\n",
       "      <td>23160.0</td>\n",
       "      <td>3474.00</td>\n",
       "      <td>19686.00</td>\n",
       "      <td>11580.0</td>\n",
       "      <td>8106.00</td>\n",
       "      <td>2014-03-01</td>\n",
       "      <td>3</td>\n",
       "      <td>March</td>\n",
       "      <td>2014</td>\n",
       "    </tr>\n",
       "    <tr>\n",
       "      <th>671</th>\n",
       "      <td>Midmarket</td>\n",
       "      <td>Canada</td>\n",
       "      <td>Paseo</td>\n",
       "      <td>High</td>\n",
       "      <td>1614.0</td>\n",
       "      <td>10</td>\n",
       "      <td>15</td>\n",
       "      <td>24210.0</td>\n",
       "      <td>3631.50</td>\n",
       "      <td>20578.50</td>\n",
       "      <td>16140.0</td>\n",
       "      <td>4438.50</td>\n",
       "      <td>2014-04-01</td>\n",
       "      <td>4</td>\n",
       "      <td>April</td>\n",
       "      <td>2014</td>\n",
       "    </tr>\n",
       "    <tr>\n",
       "      <th>672</th>\n",
       "      <td>Government</td>\n",
       "      <td>Mexico</td>\n",
       "      <td>Paseo</td>\n",
       "      <td>High</td>\n",
       "      <td>2535.0</td>\n",
       "      <td>10</td>\n",
       "      <td>7</td>\n",
       "      <td>17745.0</td>\n",
       "      <td>2661.75</td>\n",
       "      <td>15083.25</td>\n",
       "      <td>12675.0</td>\n",
       "      <td>2408.25</td>\n",
       "      <td>2014-04-01</td>\n",
       "      <td>4</td>\n",
       "      <td>April</td>\n",
       "      <td>2014</td>\n",
       "    </tr>\n",
       "    <tr>\n",
       "      <th>673</th>\n",
       "      <td>Government</td>\n",
       "      <td>Mexico</td>\n",
       "      <td>Paseo</td>\n",
       "      <td>High</td>\n",
       "      <td>2851.0</td>\n",
       "      <td>10</td>\n",
       "      <td>350</td>\n",
       "      <td>997850.0</td>\n",
       "      <td>149677.50</td>\n",
       "      <td>848172.50</td>\n",
       "      <td>741260.0</td>\n",
       "      <td>106912.50</td>\n",
       "      <td>2014-05-01</td>\n",
       "      <td>5</td>\n",
       "      <td>May</td>\n",
       "      <td>2014</td>\n",
       "    </tr>\n",
       "    <tr>\n",
       "      <th>674</th>\n",
       "      <td>Midmarket</td>\n",
       "      <td>Canada</td>\n",
       "      <td>Paseo</td>\n",
       "      <td>High</td>\n",
       "      <td>2559.0</td>\n",
       "      <td>10</td>\n",
       "      <td>15</td>\n",
       "      <td>38385.0</td>\n",
       "      <td>5757.75</td>\n",
       "      <td>32627.25</td>\n",
       "      <td>25590.0</td>\n",
       "      <td>7037.25</td>\n",
       "      <td>2014-08-01</td>\n",
       "      <td>8</td>\n",
       "      <td>August</td>\n",
       "      <td>2014</td>\n",
       "    </tr>\n",
       "    <tr>\n",
       "      <th>675</th>\n",
       "      <td>Government</td>\n",
       "      <td>United States of America</td>\n",
       "      <td>Paseo</td>\n",
       "      <td>High</td>\n",
       "      <td>267.0</td>\n",
       "      <td>10</td>\n",
       "      <td>20</td>\n",
       "      <td>5340.0</td>\n",
       "      <td>801.00</td>\n",
       "      <td>4539.00</td>\n",
       "      <td>2670.0</td>\n",
       "      <td>1869.00</td>\n",
       "      <td>2013-10-01</td>\n",
       "      <td>10</td>\n",
       "      <td>October</td>\n",
       "      <td>2013</td>\n",
       "    </tr>\n",
       "    <tr>\n",
       "      <th>676</th>\n",
       "      <td>Enterprise</td>\n",
       "      <td>Germany</td>\n",
       "      <td>Paseo</td>\n",
       "      <td>High</td>\n",
       "      <td>1085.0</td>\n",
       "      <td>10</td>\n",
       "      <td>125</td>\n",
       "      <td>135625.0</td>\n",
       "      <td>20343.75</td>\n",
       "      <td>115281.25</td>\n",
       "      <td>130200.0</td>\n",
       "      <td>-14918.75</td>\n",
       "      <td>2014-10-01</td>\n",
       "      <td>10</td>\n",
       "      <td>October</td>\n",
       "      <td>2014</td>\n",
       "    </tr>\n",
       "    <tr>\n",
       "      <th>677</th>\n",
       "      <td>Midmarket</td>\n",
       "      <td>Germany</td>\n",
       "      <td>Paseo</td>\n",
       "      <td>High</td>\n",
       "      <td>1175.0</td>\n",
       "      <td>10</td>\n",
       "      <td>15</td>\n",
       "      <td>17625.0</td>\n",
       "      <td>2643.75</td>\n",
       "      <td>14981.25</td>\n",
       "      <td>11750.0</td>\n",
       "      <td>3231.25</td>\n",
       "      <td>2014-10-01</td>\n",
       "      <td>10</td>\n",
       "      <td>October</td>\n",
       "      <td>2014</td>\n",
       "    </tr>\n",
       "    <tr>\n",
       "      <th>678</th>\n",
       "      <td>Government</td>\n",
       "      <td>United States of America</td>\n",
       "      <td>Paseo</td>\n",
       "      <td>High</td>\n",
       "      <td>2007.0</td>\n",
       "      <td>10</td>\n",
       "      <td>350</td>\n",
       "      <td>702450.0</td>\n",
       "      <td>105367.50</td>\n",
       "      <td>597082.50</td>\n",
       "      <td>521820.0</td>\n",
       "      <td>75262.50</td>\n",
       "      <td>2013-11-01</td>\n",
       "      <td>11</td>\n",
       "      <td>November</td>\n",
       "      <td>2013</td>\n",
       "    </tr>\n",
       "    <tr>\n",
       "      <th>679</th>\n",
       "      <td>Government</td>\n",
       "      <td>Mexico</td>\n",
       "      <td>Paseo</td>\n",
       "      <td>High</td>\n",
       "      <td>2151.0</td>\n",
       "      <td>10</td>\n",
       "      <td>350</td>\n",
       "      <td>752850.0</td>\n",
       "      <td>112927.50</td>\n",
       "      <td>639922.50</td>\n",
       "      <td>559260.0</td>\n",
       "      <td>80662.50</td>\n",
       "      <td>2013-11-01</td>\n",
       "      <td>11</td>\n",
       "      <td>November</td>\n",
       "      <td>2013</td>\n",
       "    </tr>\n",
       "    <tr>\n",
       "      <th>680</th>\n",
       "      <td>Channel Partners</td>\n",
       "      <td>United States of America</td>\n",
       "      <td>Paseo</td>\n",
       "      <td>High</td>\n",
       "      <td>914.0</td>\n",
       "      <td>10</td>\n",
       "      <td>12</td>\n",
       "      <td>10968.0</td>\n",
       "      <td>1645.20</td>\n",
       "      <td>9322.80</td>\n",
       "      <td>2742.0</td>\n",
       "      <td>6580.80</td>\n",
       "      <td>2014-12-01</td>\n",
       "      <td>12</td>\n",
       "      <td>December</td>\n",
       "      <td>2014</td>\n",
       "    </tr>\n",
       "    <tr>\n",
       "      <th>681</th>\n",
       "      <td>Government</td>\n",
       "      <td>France</td>\n",
       "      <td>Paseo</td>\n",
       "      <td>High</td>\n",
       "      <td>293.0</td>\n",
       "      <td>10</td>\n",
       "      <td>20</td>\n",
       "      <td>5860.0</td>\n",
       "      <td>879.00</td>\n",
       "      <td>4981.00</td>\n",
       "      <td>2930.0</td>\n",
       "      <td>2051.00</td>\n",
       "      <td>2014-12-01</td>\n",
       "      <td>12</td>\n",
       "      <td>December</td>\n",
       "      <td>2014</td>\n",
       "    </tr>\n",
       "    <tr>\n",
       "      <th>682</th>\n",
       "      <td>Channel Partners</td>\n",
       "      <td>Mexico</td>\n",
       "      <td>Velo</td>\n",
       "      <td>High</td>\n",
       "      <td>500.0</td>\n",
       "      <td>120</td>\n",
       "      <td>12</td>\n",
       "      <td>6000.0</td>\n",
       "      <td>900.00</td>\n",
       "      <td>5100.00</td>\n",
       "      <td>1500.0</td>\n",
       "      <td>3600.00</td>\n",
       "      <td>2014-03-01</td>\n",
       "      <td>3</td>\n",
       "      <td>March</td>\n",
       "      <td>2014</td>\n",
       "    </tr>\n",
       "    <tr>\n",
       "      <th>683</th>\n",
       "      <td>Midmarket</td>\n",
       "      <td>France</td>\n",
       "      <td>Velo</td>\n",
       "      <td>High</td>\n",
       "      <td>2826.0</td>\n",
       "      <td>120</td>\n",
       "      <td>15</td>\n",
       "      <td>42390.0</td>\n",
       "      <td>6358.50</td>\n",
       "      <td>36031.50</td>\n",
       "      <td>28260.0</td>\n",
       "      <td>7771.50</td>\n",
       "      <td>2014-05-01</td>\n",
       "      <td>5</td>\n",
       "      <td>May</td>\n",
       "      <td>2014</td>\n",
       "    </tr>\n",
       "    <tr>\n",
       "      <th>684</th>\n",
       "      <td>Enterprise</td>\n",
       "      <td>France</td>\n",
       "      <td>Velo</td>\n",
       "      <td>High</td>\n",
       "      <td>663.0</td>\n",
       "      <td>120</td>\n",
       "      <td>125</td>\n",
       "      <td>82875.0</td>\n",
       "      <td>12431.25</td>\n",
       "      <td>70443.75</td>\n",
       "      <td>79560.0</td>\n",
       "      <td>-9116.25</td>\n",
       "      <td>2014-09-01</td>\n",
       "      <td>9</td>\n",
       "      <td>September</td>\n",
       "      <td>2014</td>\n",
       "    </tr>\n",
       "    <tr>\n",
       "      <th>685</th>\n",
       "      <td>Small Business</td>\n",
       "      <td>United States of America</td>\n",
       "      <td>Velo</td>\n",
       "      <td>High</td>\n",
       "      <td>2574.0</td>\n",
       "      <td>120</td>\n",
       "      <td>300</td>\n",
       "      <td>772200.0</td>\n",
       "      <td>115830.00</td>\n",
       "      <td>656370.00</td>\n",
       "      <td>643500.0</td>\n",
       "      <td>12870.00</td>\n",
       "      <td>2013-11-01</td>\n",
       "      <td>11</td>\n",
       "      <td>November</td>\n",
       "      <td>2013</td>\n",
       "    </tr>\n",
       "    <tr>\n",
       "      <th>686</th>\n",
       "      <td>Enterprise</td>\n",
       "      <td>United States of America</td>\n",
       "      <td>Velo</td>\n",
       "      <td>High</td>\n",
       "      <td>2438.0</td>\n",
       "      <td>120</td>\n",
       "      <td>125</td>\n",
       "      <td>304750.0</td>\n",
       "      <td>45712.50</td>\n",
       "      <td>259037.50</td>\n",
       "      <td>292560.0</td>\n",
       "      <td>-33522.50</td>\n",
       "      <td>2013-12-01</td>\n",
       "      <td>12</td>\n",
       "      <td>December</td>\n",
       "      <td>2013</td>\n",
       "    </tr>\n",
       "    <tr>\n",
       "      <th>687</th>\n",
       "      <td>Channel Partners</td>\n",
       "      <td>United States of America</td>\n",
       "      <td>Velo</td>\n",
       "      <td>High</td>\n",
       "      <td>914.0</td>\n",
       "      <td>120</td>\n",
       "      <td>12</td>\n",
       "      <td>10968.0</td>\n",
       "      <td>1645.20</td>\n",
       "      <td>9322.80</td>\n",
       "      <td>2742.0</td>\n",
       "      <td>6580.80</td>\n",
       "      <td>2014-12-01</td>\n",
       "      <td>12</td>\n",
       "      <td>December</td>\n",
       "      <td>2014</td>\n",
       "    </tr>\n",
       "    <tr>\n",
       "      <th>688</th>\n",
       "      <td>Government</td>\n",
       "      <td>Canada</td>\n",
       "      <td>VTT</td>\n",
       "      <td>High</td>\n",
       "      <td>865.5</td>\n",
       "      <td>250</td>\n",
       "      <td>20</td>\n",
       "      <td>17310.0</td>\n",
       "      <td>2596.50</td>\n",
       "      <td>14713.50</td>\n",
       "      <td>8655.0</td>\n",
       "      <td>6058.50</td>\n",
       "      <td>2014-07-01</td>\n",
       "      <td>7</td>\n",
       "      <td>July</td>\n",
       "      <td>2014</td>\n",
       "    </tr>\n",
       "    <tr>\n",
       "      <th>689</th>\n",
       "      <td>Midmarket</td>\n",
       "      <td>Germany</td>\n",
       "      <td>VTT</td>\n",
       "      <td>High</td>\n",
       "      <td>492.0</td>\n",
       "      <td>250</td>\n",
       "      <td>15</td>\n",
       "      <td>7380.0</td>\n",
       "      <td>1107.00</td>\n",
       "      <td>6273.00</td>\n",
       "      <td>4920.0</td>\n",
       "      <td>1353.00</td>\n",
       "      <td>2014-07-01</td>\n",
       "      <td>7</td>\n",
       "      <td>July</td>\n",
       "      <td>2014</td>\n",
       "    </tr>\n",
       "    <tr>\n",
       "      <th>690</th>\n",
       "      <td>Government</td>\n",
       "      <td>United States of America</td>\n",
       "      <td>VTT</td>\n",
       "      <td>High</td>\n",
       "      <td>267.0</td>\n",
       "      <td>250</td>\n",
       "      <td>20</td>\n",
       "      <td>5340.0</td>\n",
       "      <td>801.00</td>\n",
       "      <td>4539.00</td>\n",
       "      <td>2670.0</td>\n",
       "      <td>1869.00</td>\n",
       "      <td>2013-10-01</td>\n",
       "      <td>10</td>\n",
       "      <td>October</td>\n",
       "      <td>2013</td>\n",
       "    </tr>\n",
       "    <tr>\n",
       "      <th>691</th>\n",
       "      <td>Midmarket</td>\n",
       "      <td>Germany</td>\n",
       "      <td>VTT</td>\n",
       "      <td>High</td>\n",
       "      <td>1175.0</td>\n",
       "      <td>250</td>\n",
       "      <td>15</td>\n",
       "      <td>17625.0</td>\n",
       "      <td>2643.75</td>\n",
       "      <td>14981.25</td>\n",
       "      <td>11750.0</td>\n",
       "      <td>3231.25</td>\n",
       "      <td>2014-10-01</td>\n",
       "      <td>10</td>\n",
       "      <td>October</td>\n",
       "      <td>2014</td>\n",
       "    </tr>\n",
       "    <tr>\n",
       "      <th>692</th>\n",
       "      <td>Enterprise</td>\n",
       "      <td>Canada</td>\n",
       "      <td>VTT</td>\n",
       "      <td>High</td>\n",
       "      <td>2954.0</td>\n",
       "      <td>250</td>\n",
       "      <td>125</td>\n",
       "      <td>369250.0</td>\n",
       "      <td>55387.50</td>\n",
       "      <td>313862.50</td>\n",
       "      <td>354480.0</td>\n",
       "      <td>-40617.50</td>\n",
       "      <td>2013-11-01</td>\n",
       "      <td>11</td>\n",
       "      <td>November</td>\n",
       "      <td>2013</td>\n",
       "    </tr>\n",
       "    <tr>\n",
       "      <th>693</th>\n",
       "      <td>Enterprise</td>\n",
       "      <td>Germany</td>\n",
       "      <td>VTT</td>\n",
       "      <td>High</td>\n",
       "      <td>552.0</td>\n",
       "      <td>250</td>\n",
       "      <td>125</td>\n",
       "      <td>69000.0</td>\n",
       "      <td>10350.00</td>\n",
       "      <td>58650.00</td>\n",
       "      <td>66240.0</td>\n",
       "      <td>-7590.00</td>\n",
       "      <td>2014-11-01</td>\n",
       "      <td>11</td>\n",
       "      <td>November</td>\n",
       "      <td>2014</td>\n",
       "    </tr>\n",
       "    <tr>\n",
       "      <th>694</th>\n",
       "      <td>Government</td>\n",
       "      <td>France</td>\n",
       "      <td>VTT</td>\n",
       "      <td>High</td>\n",
       "      <td>293.0</td>\n",
       "      <td>250</td>\n",
       "      <td>20</td>\n",
       "      <td>5860.0</td>\n",
       "      <td>879.00</td>\n",
       "      <td>4981.00</td>\n",
       "      <td>2930.0</td>\n",
       "      <td>2051.00</td>\n",
       "      <td>2014-12-01</td>\n",
       "      <td>12</td>\n",
       "      <td>December</td>\n",
       "      <td>2014</td>\n",
       "    </tr>\n",
       "    <tr>\n",
       "      <th>695</th>\n",
       "      <td>Small Business</td>\n",
       "      <td>France</td>\n",
       "      <td>Amarilla</td>\n",
       "      <td>High</td>\n",
       "      <td>2475.0</td>\n",
       "      <td>260</td>\n",
       "      <td>300</td>\n",
       "      <td>742500.0</td>\n",
       "      <td>111375.00</td>\n",
       "      <td>631125.00</td>\n",
       "      <td>618750.0</td>\n",
       "      <td>12375.00</td>\n",
       "      <td>2014-03-01</td>\n",
       "      <td>3</td>\n",
       "      <td>March</td>\n",
       "      <td>2014</td>\n",
       "    </tr>\n",
       "    <tr>\n",
       "      <th>696</th>\n",
       "      <td>Small Business</td>\n",
       "      <td>Mexico</td>\n",
       "      <td>Amarilla</td>\n",
       "      <td>High</td>\n",
       "      <td>546.0</td>\n",
       "      <td>260</td>\n",
       "      <td>300</td>\n",
       "      <td>163800.0</td>\n",
       "      <td>24570.00</td>\n",
       "      <td>139230.00</td>\n",
       "      <td>136500.0</td>\n",
       "      <td>2730.00</td>\n",
       "      <td>2014-10-01</td>\n",
       "      <td>10</td>\n",
       "      <td>October</td>\n",
       "      <td>2014</td>\n",
       "    </tr>\n",
       "    <tr>\n",
       "      <th>697</th>\n",
       "      <td>Government</td>\n",
       "      <td>Mexico</td>\n",
       "      <td>Montana</td>\n",
       "      <td>High</td>\n",
       "      <td>1368.0</td>\n",
       "      <td>5</td>\n",
       "      <td>7</td>\n",
       "      <td>9576.0</td>\n",
       "      <td>1436.40</td>\n",
       "      <td>8139.60</td>\n",
       "      <td>6840.0</td>\n",
       "      <td>1299.60</td>\n",
       "      <td>2014-02-01</td>\n",
       "      <td>2</td>\n",
       "      <td>February</td>\n",
       "      <td>2014</td>\n",
       "    </tr>\n",
       "    <tr>\n",
       "      <th>698</th>\n",
       "      <td>Government</td>\n",
       "      <td>Canada</td>\n",
       "      <td>Paseo</td>\n",
       "      <td>High</td>\n",
       "      <td>723.0</td>\n",
       "      <td>10</td>\n",
       "      <td>7</td>\n",
       "      <td>5061.0</td>\n",
       "      <td>759.15</td>\n",
       "      <td>4301.85</td>\n",
       "      <td>3615.0</td>\n",
       "      <td>686.85</td>\n",
       "      <td>2014-04-01</td>\n",
       "      <td>4</td>\n",
       "      <td>April</td>\n",
       "      <td>2014</td>\n",
       "    </tr>\n",
       "    <tr>\n",
       "      <th>699</th>\n",
       "      <td>Channel Partners</td>\n",
       "      <td>United States of America</td>\n",
       "      <td>VTT</td>\n",
       "      <td>High</td>\n",
       "      <td>1806.0</td>\n",
       "      <td>250</td>\n",
       "      <td>12</td>\n",
       "      <td>21672.0</td>\n",
       "      <td>3250.80</td>\n",
       "      <td>18421.20</td>\n",
       "      <td>5418.0</td>\n",
       "      <td>13003.20</td>\n",
       "      <td>2014-05-01</td>\n",
       "      <td>5</td>\n",
       "      <td>May</td>\n",
       "      <td>2014</td>\n",
       "    </tr>\n",
       "  </tbody>\n",
       "</table>\n",
       "<p>700 rows × 16 columns</p>\n",
       "</div>"
      ],
      "text/plain": [
       "              Segment                   Country    Product Discount Band  \\\n",
       "0          Government                    Canada  Carretera          None   \n",
       "1          Government                   Germany  Carretera          None   \n",
       "2           Midmarket                    France  Carretera          None   \n",
       "3           Midmarket                   Germany  Carretera          None   \n",
       "4           Midmarket                    Mexico  Carretera          None   \n",
       "5          Government                   Germany  Carretera          None   \n",
       "6           Midmarket                   Germany    Montana          None   \n",
       "7    Channel Partners                    Canada    Montana          None   \n",
       "8          Government                    France    Montana          None   \n",
       "9    Channel Partners                   Germany    Montana          None   \n",
       "10          Midmarket                    Mexico    Montana          None   \n",
       "11         Enterprise                    Canada    Montana          None   \n",
       "12     Small Business                    Mexico    Montana          None   \n",
       "13         Government                   Germany    Montana          None   \n",
       "14         Enterprise                    Canada    Montana          None   \n",
       "15          Midmarket  United States of America    Montana          None   \n",
       "16         Government                    Canada      Paseo          None   \n",
       "17          Midmarket                    Mexico      Paseo          None   \n",
       "18   Channel Partners                    Canada      Paseo          None   \n",
       "19         Government                   Germany      Paseo          None   \n",
       "20   Channel Partners                   Germany      Paseo          None   \n",
       "21         Government                    Mexico      Paseo          None   \n",
       "22          Midmarket                    France      Paseo          None   \n",
       "23     Small Business                    Mexico      Paseo          None   \n",
       "24          Midmarket                    Mexico      Paseo          None   \n",
       "25         Government  United States of America      Paseo          None   \n",
       "26         Government                    Canada      Paseo          None   \n",
       "27   Channel Partners  United States of America      Paseo          None   \n",
       "28          Midmarket                    Canada      Paseo          None   \n",
       "29         Government                    Canada      Paseo          None   \n",
       "..                ...                       ...        ...           ...   \n",
       "670        Government                   Germany      Paseo          High   \n",
       "671         Midmarket                    Canada      Paseo          High   \n",
       "672        Government                    Mexico      Paseo          High   \n",
       "673        Government                    Mexico      Paseo          High   \n",
       "674         Midmarket                    Canada      Paseo          High   \n",
       "675        Government  United States of America      Paseo          High   \n",
       "676        Enterprise                   Germany      Paseo          High   \n",
       "677         Midmarket                   Germany      Paseo          High   \n",
       "678        Government  United States of America      Paseo          High   \n",
       "679        Government                    Mexico      Paseo          High   \n",
       "680  Channel Partners  United States of America      Paseo          High   \n",
       "681        Government                    France      Paseo          High   \n",
       "682  Channel Partners                    Mexico       Velo          High   \n",
       "683         Midmarket                    France       Velo          High   \n",
       "684        Enterprise                    France       Velo          High   \n",
       "685    Small Business  United States of America       Velo          High   \n",
       "686        Enterprise  United States of America       Velo          High   \n",
       "687  Channel Partners  United States of America       Velo          High   \n",
       "688        Government                    Canada        VTT          High   \n",
       "689         Midmarket                   Germany        VTT          High   \n",
       "690        Government  United States of America        VTT          High   \n",
       "691         Midmarket                   Germany        VTT          High   \n",
       "692        Enterprise                    Canada        VTT          High   \n",
       "693        Enterprise                   Germany        VTT          High   \n",
       "694        Government                    France        VTT          High   \n",
       "695    Small Business                    France   Amarilla          High   \n",
       "696    Small Business                    Mexico   Amarilla          High   \n",
       "697        Government                    Mexico    Montana          High   \n",
       "698        Government                    Canada      Paseo          High   \n",
       "699  Channel Partners  United States of America        VTT          High   \n",
       "\n",
       "     Units Sold  Manufacturing Price  Sale Price  Gross Sales  Discounts  \\\n",
       "0        1618.5                    3          20      32370.0       0.00   \n",
       "1        1321.0                    3          20      26420.0       0.00   \n",
       "2        2178.0                    3          15      32670.0       0.00   \n",
       "3         888.0                    3          15      13320.0       0.00   \n",
       "4        2470.0                    3          15      37050.0       0.00   \n",
       "5        1513.0                    3         350     529550.0       0.00   \n",
       "6         921.0                    5          15      13815.0       0.00   \n",
       "7        2518.0                    5          12      30216.0       0.00   \n",
       "8        1899.0                    5          20      37980.0       0.00   \n",
       "9        1545.0                    5          12      18540.0       0.00   \n",
       "10       2470.0                    5          15      37050.0       0.00   \n",
       "11       2665.5                    5         125     333187.5       0.00   \n",
       "12        958.0                    5         300     287400.0       0.00   \n",
       "13       2146.0                    5           7      15022.0       0.00   \n",
       "14        345.0                    5         125      43125.0       0.00   \n",
       "15        615.0                    5          15       9225.0       0.00   \n",
       "16        292.0                   10          20       5840.0       0.00   \n",
       "17        974.0                   10          15      14610.0       0.00   \n",
       "18       2518.0                   10          12      30216.0       0.00   \n",
       "19       1006.0                   10         350     352100.0       0.00   \n",
       "20        367.0                   10          12       4404.0       0.00   \n",
       "21        883.0                   10           7       6181.0       0.00   \n",
       "22        549.0                   10          15       8235.0       0.00   \n",
       "23        788.0                   10         300     236400.0       0.00   \n",
       "24       2472.0                   10          15      37080.0       0.00   \n",
       "25       1143.0                   10           7       8001.0       0.00   \n",
       "26       1725.0                   10         350     603750.0       0.00   \n",
       "27        912.0                   10          12      10944.0       0.00   \n",
       "28       2152.0                   10          15      32280.0       0.00   \n",
       "29       1817.0                   10          20      36340.0       0.00   \n",
       "..          ...                  ...         ...          ...        ...   \n",
       "670      1158.0                   10          20      23160.0    3474.00   \n",
       "671      1614.0                   10          15      24210.0    3631.50   \n",
       "672      2535.0                   10           7      17745.0    2661.75   \n",
       "673      2851.0                   10         350     997850.0  149677.50   \n",
       "674      2559.0                   10          15      38385.0    5757.75   \n",
       "675       267.0                   10          20       5340.0     801.00   \n",
       "676      1085.0                   10         125     135625.0   20343.75   \n",
       "677      1175.0                   10          15      17625.0    2643.75   \n",
       "678      2007.0                   10         350     702450.0  105367.50   \n",
       "679      2151.0                   10         350     752850.0  112927.50   \n",
       "680       914.0                   10          12      10968.0    1645.20   \n",
       "681       293.0                   10          20       5860.0     879.00   \n",
       "682       500.0                  120          12       6000.0     900.00   \n",
       "683      2826.0                  120          15      42390.0    6358.50   \n",
       "684       663.0                  120         125      82875.0   12431.25   \n",
       "685      2574.0                  120         300     772200.0  115830.00   \n",
       "686      2438.0                  120         125     304750.0   45712.50   \n",
       "687       914.0                  120          12      10968.0    1645.20   \n",
       "688       865.5                  250          20      17310.0    2596.50   \n",
       "689       492.0                  250          15       7380.0    1107.00   \n",
       "690       267.0                  250          20       5340.0     801.00   \n",
       "691      1175.0                  250          15      17625.0    2643.75   \n",
       "692      2954.0                  250         125     369250.0   55387.50   \n",
       "693       552.0                  250         125      69000.0   10350.00   \n",
       "694       293.0                  250          20       5860.0     879.00   \n",
       "695      2475.0                  260         300     742500.0  111375.00   \n",
       "696       546.0                  260         300     163800.0   24570.00   \n",
       "697      1368.0                    5           7       9576.0    1436.40   \n",
       "698       723.0                   10           7       5061.0     759.15   \n",
       "699      1806.0                  250          12      21672.0    3250.80   \n",
       "\n",
       "         Sales      COGS     Profit       Date  Month Number Month Name  Year  \n",
       "0     32370.00   16185.0   16185.00 2014-01-01             1    January  2014  \n",
       "1     26420.00   13210.0   13210.00 2014-01-01             1    January  2014  \n",
       "2     32670.00   21780.0   10890.00 2014-06-01             6       June  2014  \n",
       "3     13320.00    8880.0    4440.00 2014-06-01             6       June  2014  \n",
       "4     37050.00   24700.0   12350.00 2014-06-01             6       June  2014  \n",
       "5    529550.00  393380.0  136170.00 2014-12-01            12   December  2014  \n",
       "6     13815.00    9210.0    4605.00 2014-03-01             3      March  2014  \n",
       "7     30216.00    7554.0   22662.00 2014-06-01             6       June  2014  \n",
       "8     37980.00   18990.0   18990.00 2014-06-01             6       June  2014  \n",
       "9     18540.00    4635.0   13905.00 2014-06-01             6       June  2014  \n",
       "10    37050.00   24700.0   12350.00 2014-06-01             6       June  2014  \n",
       "11   333187.50  319860.0   13327.50 2014-07-01             7       July  2014  \n",
       "12   287400.00  239500.0   47900.00 2014-08-01             8     August  2014  \n",
       "13    15022.00   10730.0    4292.00 2014-09-01             9  September  2014  \n",
       "14    43125.00   41400.0    1725.00 2013-10-01            10    October  2013  \n",
       "15     9225.00    6150.0    3075.00 2014-12-01            12   December  2014  \n",
       "16     5840.00    2920.0    2920.00 2014-02-01             2   February  2014  \n",
       "17    14610.00    9740.0    4870.00 2014-02-01             2   February  2014  \n",
       "18    30216.00    7554.0   22662.00 2014-06-01             6       June  2014  \n",
       "19   352100.00  261560.0   90540.00 2014-06-01             6       June  2014  \n",
       "20     4404.00    1101.0    3303.00 2014-07-01             7       July  2014  \n",
       "21     6181.00    4415.0    1766.00 2014-08-01             8     August  2014  \n",
       "22     8235.00    5490.0    2745.00 2013-09-01             9  September  2013  \n",
       "23   236400.00  197000.0   39400.00 2013-09-01             9  September  2013  \n",
       "24    37080.00   24720.0   12360.00 2014-09-01             9  September  2014  \n",
       "25     8001.00    5715.0    2286.00 2014-10-01            10    October  2014  \n",
       "26   603750.00  448500.0  155250.00 2013-11-01            11   November  2013  \n",
       "27    10944.00    2736.0    8208.00 2013-11-01            11   November  2013  \n",
       "28    32280.00   21520.0   10760.00 2013-12-01            12   December  2013  \n",
       "29    36340.00   18170.0   18170.00 2014-12-01            12   December  2014  \n",
       "..         ...       ...        ...        ...           ...        ...   ...  \n",
       "670   19686.00   11580.0    8106.00 2014-03-01             3      March  2014  \n",
       "671   20578.50   16140.0    4438.50 2014-04-01             4      April  2014  \n",
       "672   15083.25   12675.0    2408.25 2014-04-01             4      April  2014  \n",
       "673  848172.50  741260.0  106912.50 2014-05-01             5        May  2014  \n",
       "674   32627.25   25590.0    7037.25 2014-08-01             8     August  2014  \n",
       "675    4539.00    2670.0    1869.00 2013-10-01            10    October  2013  \n",
       "676  115281.25  130200.0  -14918.75 2014-10-01            10    October  2014  \n",
       "677   14981.25   11750.0    3231.25 2014-10-01            10    October  2014  \n",
       "678  597082.50  521820.0   75262.50 2013-11-01            11   November  2013  \n",
       "679  639922.50  559260.0   80662.50 2013-11-01            11   November  2013  \n",
       "680    9322.80    2742.0    6580.80 2014-12-01            12   December  2014  \n",
       "681    4981.00    2930.0    2051.00 2014-12-01            12   December  2014  \n",
       "682    5100.00    1500.0    3600.00 2014-03-01             3      March  2014  \n",
       "683   36031.50   28260.0    7771.50 2014-05-01             5        May  2014  \n",
       "684   70443.75   79560.0   -9116.25 2014-09-01             9  September  2014  \n",
       "685  656370.00  643500.0   12870.00 2013-11-01            11   November  2013  \n",
       "686  259037.50  292560.0  -33522.50 2013-12-01            12   December  2013  \n",
       "687    9322.80    2742.0    6580.80 2014-12-01            12   December  2014  \n",
       "688   14713.50    8655.0    6058.50 2014-07-01             7       July  2014  \n",
       "689    6273.00    4920.0    1353.00 2014-07-01             7       July  2014  \n",
       "690    4539.00    2670.0    1869.00 2013-10-01            10    October  2013  \n",
       "691   14981.25   11750.0    3231.25 2014-10-01            10    October  2014  \n",
       "692  313862.50  354480.0  -40617.50 2013-11-01            11   November  2013  \n",
       "693   58650.00   66240.0   -7590.00 2014-11-01            11   November  2014  \n",
       "694    4981.00    2930.0    2051.00 2014-12-01            12   December  2014  \n",
       "695  631125.00  618750.0   12375.00 2014-03-01             3      March  2014  \n",
       "696  139230.00  136500.0    2730.00 2014-10-01            10    October  2014  \n",
       "697    8139.60    6840.0    1299.60 2014-02-01             2   February  2014  \n",
       "698    4301.85    3615.0     686.85 2014-04-01             4      April  2014  \n",
       "699   18421.20    5418.0   13003.20 2014-05-01             5        May  2014  \n",
       "\n",
       "[700 rows x 16 columns]"
      ]
     },
     "execution_count": 70,
     "metadata": {},
     "output_type": "execute_result"
    }
   ],
   "source": [
    "df"
   ]
  },
  {
   "cell_type": "code",
   "execution_count": 71,
   "metadata": {},
   "outputs": [
    {
     "data": {
      "text/plain": [
       "[<matplotlib.lines.Line2D at 0x1321619fd0>]"
      ]
     },
     "execution_count": 71,
     "metadata": {},
     "output_type": "execute_result"
    },
    {
     "data": {
      "image/png": "[encoded data removed]",
      "text/plain": [
       "<Figure size 432x288 with 1 Axes>"
      ]
     },
     "metadata": {
      "needs_background": "light"
     },
     "output_type": "display_data"
    }
   ],
   "source": [
    "plt.plot(df['Gross Sales'],df['Units Sold'],'.')"
   ]
  },
  {
   "cell_type": "code",
   "execution_count": 72,
   "metadata": {},
   "outputs": [
    {
     "data": {
      "text/html": [
       "<div>\n",
       "<style scoped>\n",
       "    .dataframe tbody tr th:only-of-type {\n",
       "        vertical-align: middle;\n",
       "    }\n",
       "\n",
       "    .dataframe tbody tr th {\n",
       "        vertical-align: top;\n",
       "    }\n",
       "\n",
       "    .dataframe thead th {\n",
       "        text-align: right;\n",
       "    }\n",
       "</style>\n",
       "<table border=\"1\" class=\"dataframe\">\n",
       "  <thead>\n",
       "    <tr style=\"text-align: right;\">\n",
       "      <th></th>\n",
       "      <th>Gross Sales</th>\n",
       "      <th>Units Sold</th>\n",
       "    </tr>\n",
       "  </thead>\n",
       "  <tbody>\n",
       "    <tr>\n",
       "      <th>0</th>\n",
       "      <td>32370.0</td>\n",
       "      <td>1618.5</td>\n",
       "    </tr>\n",
       "    <tr>\n",
       "      <th>2</th>\n",
       "      <td>32670.0</td>\n",
       "      <td>2178.0</td>\n",
       "    </tr>\n",
       "  </tbody>\n",
       "</table>\n",
       "</div>"
      ],
      "text/plain": [
       "   Gross Sales  Units Sold\n",
       "0      32370.0      1618.5\n",
       "2      32670.0      2178.0"
      ]
     },
     "execution_count": 72,
     "metadata": {},
     "output_type": "execute_result"
    }
   ],
   "source": [
    "df[['Gross Sales','Units Sold']].iloc[[0,2],[0,1]]"
   ]
  },
  {
   "cell_type": "code",
   "execution_count": 73,
   "metadata": {},
   "outputs": [
    {
     "data": {
      "text/plain": [
       "[<matplotlib.lines.Line2D at 0x13217cbac8>]"
      ]
     },
     "execution_count": 73,
     "metadata": {},
     "output_type": "execute_result"
    },
    {
     "data": {
      "image/png": "[encoded data removed]",
      "text/plain": [
       "<Figure size 432x288 with 1 Axes>"
      ]
     },
     "metadata": {
      "needs_background": "light"
     },
     "output_type": "display_data"
    }
   ],
   "source": [
    "plt.plot(df['Gross Sales'],df['Units Sold']**2,'.')"
   ]
  },
  {
   "cell_type": "markdown",
   "metadata": {},
   "source": [
    "This will only work if you have Fortran installed properly. In summary: you can mix Fortran with Python. "
   ]
  },
  {
   "cell_type": "code",
   "execution_count": 74,
   "metadata": {},
   "outputs": [
    {
     "name": "stderr",
     "output_type": "stream",
     "text": [
      "/Users/jslater/anaconda3/lib/python3.6/site-packages/fortranmagic.py:147: UserWarning: get_ipython_cache_dir has moved to the IPython.paths module since IPython 4.0.\n",
      "  self._lib_dir = os.path.join(get_ipython_cache_dir(), 'fortran')\n"
     ]
    },
    {
     "data": {
      "application/javascript": [
       "$.getScript(\"https://raw.github.com/marijnh/CodeMirror/master/mode/fortran/fortran.js\", function () {\n",
       "IPython.config.cell_magic_highlight['magic_fortran'] = {'reg':[/^%%fortran/]};});\n"
      ]
     },
     "metadata": {},
     "output_type": "display_data"
    }
   ],
   "source": [
    "%reload_ext fortranmagic"
   ]
  },
  {
   "cell_type": "code",
   "execution_count": 75,
   "metadata": {
    "scrolled": false
   },
   "outputs": [
    {
     "ename": "RuntimeError",
     "evalue": "f2py failed, see output",
     "output_type": "error",
     "traceback": [
      "\u001b[0;31m---------------------------------------------------------------------------\u001b[0m",
      "\u001b[0;31mRuntimeError\u001b[0m                              Traceback (most recent call last)",
      "\u001b[0;32m<ipython-input-75-5e72805527a4>\u001b[0m in \u001b[0;36m<module>\u001b[0;34m()\u001b[0m\n\u001b[0;32m----> 1\u001b[0;31m \u001b[0mget_ipython\u001b[0m\u001b[0;34m(\u001b[0m\u001b[0;34m)\u001b[0m\u001b[0;34m.\u001b[0m\u001b[0mrun_cell_magic\u001b[0m\u001b[0;34m(\u001b[0m\u001b[0;34m'fortran'\u001b[0m\u001b[0;34m,\u001b[0m \u001b[0;34m''\u001b[0m\u001b[0;34m,\u001b[0m \u001b[0;34m'subroutine compute_fortran(x, y, z)\\n    real, intent(in) :: x(:), y(:)\\n    real, intent(out) :: z(size(x, 1))\\n\\n    z = sin(x + y)\\n\\nend subroutine compute_fortran'\u001b[0m\u001b[0;34m)\u001b[0m\u001b[0;34m\u001b[0m\u001b[0m\n\u001b[0m",
      "\u001b[0;32m~/anaconda3/lib/python3.6/site-packages/IPython/core/interactiveshell.py\u001b[0m in \u001b[0;36mrun_cell_magic\u001b[0;34m(self, magic_name, line, cell)\u001b[0m\n\u001b[1;32m   2165\u001b[0m             \u001b[0mmagic_arg_s\u001b[0m \u001b[0;34m=\u001b[0m \u001b[0mself\u001b[0m\u001b[0;34m.\u001b[0m\u001b[0mvar_expand\u001b[0m\u001b[0;34m(\u001b[0m\u001b[0mline\u001b[0m\u001b[0;34m,\u001b[0m \u001b[0mstack_depth\u001b[0m\u001b[0;34m)\u001b[0m\u001b[0;34m\u001b[0m\u001b[0m\n\u001b[1;32m   2166\u001b[0m             \u001b[0;32mwith\u001b[0m \u001b[0mself\u001b[0m\u001b[0;34m.\u001b[0m\u001b[0mbuiltin_trap\u001b[0m\u001b[0;34m:\u001b[0m\u001b[0;34m\u001b[0m\u001b[0m\n\u001b[0;32m-> 2167\u001b[0;31m                 \u001b[0mresult\u001b[0m \u001b[0;34m=\u001b[0m \u001b[0mfn\u001b[0m\u001b[0;34m(\u001b[0m\u001b[0mmagic_arg_s\u001b[0m\u001b[0;34m,\u001b[0m \u001b[0mcell\u001b[0m\u001b[0;34m)\u001b[0m\u001b[0;34m\u001b[0m\u001b[0m\n\u001b[0m\u001b[1;32m   2168\u001b[0m             \u001b[0;32mreturn\u001b[0m \u001b[0mresult\u001b[0m\u001b[0;34m\u001b[0m\u001b[0m\n\u001b[1;32m   2169\u001b[0m \u001b[0;34m\u001b[0m\u001b[0m\n",
      "\u001b[0;32m<decorator-gen-127>\u001b[0m in \u001b[0;36mfortran\u001b[0;34m(self, line, cell)\u001b[0m\n",
      "\u001b[0;32m~/anaconda3/lib/python3.6/site-packages/IPython/core/magic.py\u001b[0m in \u001b[0;36m<lambda>\u001b[0;34m(f, *a, **k)\u001b[0m\n\u001b[1;32m    185\u001b[0m     \u001b[0;31m# but it's overkill for just that one bit of state.\u001b[0m\u001b[0;34m\u001b[0m\u001b[0;34m\u001b[0m\u001b[0m\n\u001b[1;32m    186\u001b[0m     \u001b[0;32mdef\u001b[0m \u001b[0mmagic_deco\u001b[0m\u001b[0;34m(\u001b[0m\u001b[0marg\u001b[0m\u001b[0;34m)\u001b[0m\u001b[0;34m:\u001b[0m\u001b[0;34m\u001b[0m\u001b[0m\n\u001b[0;32m--> 187\u001b[0;31m         \u001b[0mcall\u001b[0m \u001b[0;34m=\u001b[0m \u001b[0;32mlambda\u001b[0m \u001b[0mf\u001b[0m\u001b[0;34m,\u001b[0m \u001b[0;34m*\u001b[0m\u001b[0ma\u001b[0m\u001b[0;34m,\u001b[0m \u001b[0;34m**\u001b[0m\u001b[0mk\u001b[0m\u001b[0;34m:\u001b[0m \u001b[0mf\u001b[0m\u001b[0;34m(\u001b[0m\u001b[0;34m*\u001b[0m\u001b[0ma\u001b[0m\u001b[0;34m,\u001b[0m \u001b[0;34m**\u001b[0m\u001b[0mk\u001b[0m\u001b[0;34m)\u001b[0m\u001b[0;34m\u001b[0m\u001b[0m\n\u001b[0m\u001b[1;32m    188\u001b[0m \u001b[0;34m\u001b[0m\u001b[0m\n\u001b[1;32m    189\u001b[0m         \u001b[0;32mif\u001b[0m \u001b[0mcallable\u001b[0m\u001b[0;34m(\u001b[0m\u001b[0marg\u001b[0m\u001b[0;34m)\u001b[0m\u001b[0;34m:\u001b[0m\u001b[0;34m\u001b[0m\u001b[0m\n",
      "\u001b[0;32m~/anaconda3/lib/python3.6/site-packages/fortranmagic.py\u001b[0m in \u001b[0;36mfortran\u001b[0;34m(self, line, cell)\u001b[0m\n\u001b[1;32m    377\u001b[0m                              verbosity=args.verbosity)\n\u001b[1;32m    378\u001b[0m         \u001b[0;32mif\u001b[0m \u001b[0mres\u001b[0m \u001b[0;34m!=\u001b[0m \u001b[0;36m0\u001b[0m\u001b[0;34m:\u001b[0m\u001b[0;34m\u001b[0m\u001b[0m\n\u001b[0;32m--> 379\u001b[0;31m            \u001b[0;32mraise\u001b[0m \u001b[0mRuntimeError\u001b[0m\u001b[0;34m(\u001b[0m\u001b[0;34m\"f2py failed, see output\"\u001b[0m\u001b[0;34m)\u001b[0m\u001b[0;34m\u001b[0m\u001b[0m\n\u001b[0m\u001b[1;32m    380\u001b[0m \u001b[0;34m\u001b[0m\u001b[0m\n\u001b[1;32m    381\u001b[0m         \u001b[0mself\u001b[0m\u001b[0;34m.\u001b[0m\u001b[0m_code_cache\u001b[0m\u001b[0;34m[\u001b[0m\u001b[0mkey\u001b[0m\u001b[0;34m]\u001b[0m \u001b[0;34m=\u001b[0m \u001b[0mmodule_name\u001b[0m\u001b[0;34m\u001b[0m\u001b[0m\n",
      "\u001b[0;31mRuntimeError\u001b[0m: f2py failed, see output"
     ]
    }
   ],
   "source": [
    "%%fortran\n",
    "subroutine compute_fortran(x, y, z)\n",
    "    real, intent(in) :: x(:), y(:)\n",
    "    real, intent(out) :: z(size(x, 1))\n",
    "\n",
    "    z = sin(x + y)\n",
    "\n",
    "end subroutine compute_fortran"
   ]
  },
  {
   "cell_type": "code",
   "execution_count": null,
   "metadata": {},
   "outputs": [],
   "source": [
    "compute_fortran([1, 2, 3], [4, 5, 6])"
   ]
  },
  {
   "cell_type": "code",
   "execution_count": 76,
   "metadata": {},
   "outputs": [],
   "source": [
    "%load_ext cython"
   ]
  },
  {
   "cell_type": "code",
   "execution_count": 107,
   "metadata": {},
   "outputs": [
    {
     "name": "stdout",
     "output_type": "stream",
     "text": [
      "CPU times: user 1.8 ms, sys: 1.38 ms, total: 3.19 ms\n",
      "Wall time: 1.97 ms\n"
     ]
    }
   ],
   "source": [
    "%%time\n",
    "%%cython\n",
    "\n",
    "cdef int a=0\n",
    "for i in range(10):\n",
    "    a += i\n",
    "print(a)"
   ]
  },
  {
   "cell_type": "code",
   "execution_count": 108,
   "metadata": {},
   "outputs": [
    {
     "name": "stdout",
     "output_type": "stream",
     "text": [
      "45\n",
      "CPU times: user 194 µs, sys: 91 µs, total: 285 µs\n",
      "Wall time: 228 µs\n"
     ]
    }
   ],
   "source": [
    "%%time\n",
    "for i in range(10):\n",
    "    a += i\n",
    "print(a)"
   ]
  },
  {
   "cell_type": "code",
   "execution_count": null,
   "metadata": {},
   "outputs": [],
   "source": []
  }
 ],
 "metadata": {
  "hide_input": false,
  "kernelspec": {
   "display_name": "Python 3",
   "language": "python",
   "name": "python3"
  },
  "language_info": {
   "codemirror_mode": {
    "name": "ipython",
    "version": 3
   },
   "file_extension": ".py",
   "mimetype": "text/x-python",
   "name": "python",
   "nbconvert_exporter": "python",
   "pygments_lexer": "ipython3",
   "version": "3.6.6"
  },
  "latex_envs": {
   "bibliofile": "biblio.bib",
   "cite_by": "apalike",
   "current_citInitial": 1,
   "eqLabelWithNumbers": true,
   "eqNumInitial": 0
  },
  "widgets": {
   "state": {
    "08fc4d14933342cc8d1204fb294b85b3": {
     "views": [
      {
       "cell_index": 43
      }
     ]
    }
   },
   "version": "1.2.0"
  }
 },
 "nbformat": 4,
 "nbformat_minor": 2
}
